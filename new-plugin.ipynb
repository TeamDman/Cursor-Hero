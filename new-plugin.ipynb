{
 "cells": [
  {
   "cell_type": "code",
   "execution_count": 1,
   "metadata": {},
   "outputs": [
    {
     "name": "stdout",
     "output_type": "stream",
     "text": [
      "pause_tool\n"
     ]
    }
   ],
   "source": [
    "crate_name = input(\"Enter the name of the new crate\")\n",
    "print(crate_name)"
   ]
  },
  {
   "cell_type": "code",
   "execution_count": 2,
   "metadata": {},
   "outputs": [
    {
     "name": "stderr",
     "output_type": "stream",
     "text": [
      "\u001b[1m\u001b[32m     Created\u001b[0m library `crates/pause_tool` package\n"
     ]
    }
   ],
   "source": [
    "!cargo new --lib crates/$crate_name"
   ]
  },
  {
   "cell_type": "code",
   "execution_count": 3,
   "metadata": {},
   "outputs": [
    {
     "name": "stdout",
     "output_type": "stream",
     "text": [
      "[package]\n",
      "name = \"pause_tool\"\n",
      "version = \"0.1.0\"\n",
      "edition = \"2021\"\n",
      "\n",
      "# See more keys and their definitions at https://doc.rust-lang.org/cargo/reference/manifest.html\n",
      "\n",
      "[dependencies]\n"
     ]
    }
   ],
   "source": [
    "!cat crates/$crate_name/Cargo.toml"
   ]
  },
  {
   "cell_type": "code",
   "execution_count": 4,
   "metadata": {},
   "outputs": [],
   "source": [
    "from pathlib import Path\n",
    "\n",
    "# Define the path to the TOML file\n",
    "toml_file_path = Path(\"crates\", crate_name, \"Cargo.toml\")\n",
    "\n",
    "# Read the contents of the TOML file\n",
    "with open(toml_file_path, \"r\") as file:\n",
    "    toml_contents = file.read()\n",
    "\n",
    "# Modify the package name\n",
    "modified_toml_contents = toml_contents.replace('name = \"', 'name = \"cursor_hero_')\n",
    "modified_toml_contents += r\"bevy = { workspace = true }\" + \"\\n\"\n",
    "\n",
    "# Write the modified contents back to the TOML file\n",
    "with open(toml_file_path, \"w\") as file:\n",
    "    file.write(modified_toml_contents)"
   ]
  },
  {
   "cell_type": "code",
   "execution_count": 5,
   "metadata": {},
   "outputs": [
    {
     "name": "stdout",
     "output_type": "stream",
     "text": [
      "[package]\n",
      "name = \"cursor_hero_pause_tool\"\n",
      "version = \"0.1.0\"\n",
      "edition = \"2021\"\n",
      "\n",
      "# See more keys and their definitions at https://doc.rust-lang.org/cargo/reference/manifest.html\n",
      "\n",
      "[dependencies]\n",
      "bevy = { workspace = true }\n"
     ]
    }
   ],
   "source": [
    "!cat crates/$crate_name/Cargo.toml"
   ]
  },
  {
   "cell_type": "code",
   "execution_count": 6,
   "metadata": {},
   "outputs": [
    {
     "name": "stdout",
     "output_type": "stream",
     "text": [
      "[package]\n",
      "name = \"cursor_hero\"\n",
      "version = \"0.3.0\"\n",
      "edition = \"2021\"\n",
      "\n",
      "[workspace]\n",
      "members = [\"crates/*\", \"other/gamepad_hell\", \"other/uparrow-enter\"]\n",
      "\n",
      "# See more keys and their definitions at https://doc.rust-lang.org/cargo/reference/manifest.html\n",
      "\n",
      "[workspace.dependencies]\n",
      "cursor_hero_wallpaper = { path = \"./crates/wallpaper\" }\n",
      "cursor_hero_cursor_mirror = { path = \"./crates/cursor_mirror\" }\n",
      "cursor_hero_hover = { path = \"./crates/hover\" }\n",
      "cursor_hero_pressure_plate = { path = \"./crates/pressure_plate\" }\n",
      "cursor_hero_level_bounds = { path = \"./crates/level_bounds\" }\n",
      "cursor_hero_input = { path = \"./crates/input\" }\n",
      "cursor_hero_camera = { path = \"./crates/camera\" }\n",
      "cursor_hero_character = { path = \"./crates/character\" }\n",
      "cursor_hero_character_movement = { path = \"./crates/character_movement\" }\n",
      "cursor_hero_data = { path = \"./crates/data\" }\n",
      "cursor_hero_metrics = { path = \"./crates/metrics\" }\n",
      "cursor_hero_click_drag_character_movement = { path = \"./crates/click_drag_character_movement\" }\n",
      "cursor_hero_physics = { path = \"./crates/physics\" }\n",
      "cursor_hero_pointer = { path = \"./crates/pointer\" }\n",
      "cursor_hero_screen = { path = \"./crates/screen\" }\n",
      "cursor_hero_toolbelt = { path = \"./crates/toolbelt\" }\n",
      "cursor_hero_tools = { path = \"./crates/tools\" }\n",
      "cursor_hero_ui = { path = \"./crates/ui\" }\n",
      "cursor_hero_winutils = { path = \"./crates/winutils\" }\n",
      "cursor_hero_restart_memory = { path = \"./crates/restart_memory\" }\n",
      "cursor_hero_version = { path = \"./crates/version\" }\n",
      "cursor_hero_plugins = { path = \"./crates/plugins\" }\n",
      "cursor_hero_icon = { path = \"./crates/icon\" }\n",
      "anyhow = \"1.0.75\"\n",
      "# bevy = { path = \"../bevy\", features = [\"dynamic_linking\"] }\n",
      "bevy = { version = \"0.12.1\", git = \"https://github.com/TeamDman/bevy.git\", branch = \"cursor_hero\" }\n",
      "bevy-inspector-egui = { version = \"0.22.1\", git = \"https://github.com/TeamDman/bevy-inspector-egui.git\", branch = \"cursor_hero\" }\n",
      "bevy_xpbd_2d = { git = \"https://github.com/TeamDman/bevy_xpbd.git\", branch = \"cursor_hero\", features = [\n",
      "  \"simd\",\n",
      "  \"parallel\",\n",
      "] }\n",
      "crossbeam-channel = \"0.5.8\"\n",
      "itertools = \"0.12.0\"\n",
      "raw-window-handle = \"0.5.2\"\n",
      "leafwing-input-manager = { git = \"https://github.com/TeamDman/leafwing-input-manager.git\", branch = \"cursor_hero\" }\n",
      "windows = \"0.51.1\"\n",
      "indexmap = \"2.1.0\"\n",
      "image = \"0.24.7\"\n",
      "screenshots = \"0.8.4\"\n",
      "uiautomation = \"0.7.3\"\n",
      "serde = { version = \"1.0\", features = [\"derive\"] }\n",
      "serde_json = \"1.0\"\n",
      "tokio = { version = \"1.32.0\", features = [\"net\", \"full\"] }\n",
      "tokio-named-pipes = \"0.1.0\"\n",
      "syn = { version = \"2.0.48\", features = [\"full\", \"visit-mut\", \"visit\"] }\n",
      "quote = \"1.0.35\"\n",
      "proc-macro2 = \"1.0.76\"\n",
      "bevy_embedded_assets = { version = \"0.9.1\", git = \"https://github.com/TeamDman/bevy_embedded_assets.git\", branch = \"cursor_hero\" }\n",
      "winit = \"0.28.7\"\n",
      "\n",
      "[dependencies]\n",
      "cursor_hero_plugins = { workspace = true }\n",
      "cursor_hero_version = { workspace = true }\n",
      "bevy = { workspace = true }\n",
      "bevy-inspector-egui = { workspace = true }\n",
      "bevy_xpbd_2d = { workspace = true }\n",
      "bevy_embedded_assets = { workspace = true }\n",
      "\n",
      "[dev-dependencies]\n",
      "bevy = { workspace = true, features = [\"dynamic_linking\"] }\n",
      "\n",
      "\n",
      "[build-dependencies]\n",
      "embed-resource = \"1.6.3\"\n",
      "\n",
      "[profile.dev]\n",
      "opt-level = 1\n",
      "\n",
      "[profile.dev.package.\"*\"]\n",
      "opt-level = 3\n",
      "\n",
      "# [patch.crates-io]\n",
      "# winit = { path = \"D:/Repos/rust/winit\" }\n"
     ]
    }
   ],
   "source": [
    "!cat Cargo.toml"
   ]
  },
  {
   "cell_type": "code",
   "execution_count": 7,
   "metadata": {},
   "outputs": [],
   "source": [
    "from pathlib import Path\n",
    "\n",
    "# Define the path to the TOML file\n",
    "toml_file_path = Path(\"Cargo.toml\")\n",
    "\n",
    "# Read the contents of the TOML file\n",
    "with open(toml_file_path, \"r\") as file:\n",
    "    toml_contents = file.read()\n",
    "\n",
    "# Append the dependency to the contents\n",
    "modified_toml_contents = toml_contents.replace(\"[workspace.dependencies]\", f\"[workspace.dependencies]\\ncursor_hero_{crate_name} = {{ path = \\\"./crates/{crate_name}\\\" }}\")\n",
    "\n",
    "# Write the modified contents back to the TOML file\n",
    "with open(toml_file_path, \"w\") as file:\n",
    "    file.write(modified_toml_contents)\n"
   ]
  },
  {
   "cell_type": "code",
   "execution_count": 8,
   "metadata": {},
   "outputs": [
    {
     "name": "stdout",
     "output_type": "stream",
     "text": [
      "[package]\n",
      "name = \"cursor_hero\"\n",
      "version = \"0.3.0\"\n",
      "edition = \"2021\"\n",
      "\n",
      "[workspace]\n",
      "members = [\"crates/*\", \"other/gamepad_hell\", \"other/uparrow-enter\"]\n",
      "\n",
      "# See more keys and their definitions at https://doc.rust-lang.org/cargo/reference/manifest.html\n",
      "\n",
      "[workspace.dependencies]\n",
      "cursor_hero_pause_tool = { path = \"./crates/pause_tool\" }\n",
      "cursor_hero_wallpaper = { path = \"./crates/wallpaper\" }\n",
      "cursor_hero_cursor_mirror = { path = \"./crates/cursor_mirror\" }\n",
      "cursor_hero_hover = { path = \"./crates/hover\" }\n",
      "cursor_hero_pressure_plate = { path = \"./crates/pressure_plate\" }\n",
      "cursor_hero_level_bounds = { path = \"./crates/level_bounds\" }\n",
      "cursor_hero_input = { path = \"./crates/input\" }\n",
      "cursor_hero_camera = { path = \"./crates/camera\" }\n",
      "cursor_hero_character = { path = \"./crates/character\" }\n",
      "cursor_hero_character_movement = { path = \"./crates/character_movement\" }\n",
      "cursor_hero_data = { path = \"./crates/data\" }\n",
      "cursor_hero_metrics = { path = \"./crates/metrics\" }\n",
      "cursor_hero_click_drag_character_movement = { path = \"./crates/click_drag_character_movement\" }\n",
      "cursor_hero_physics = { path = \"./crates/physics\" }\n",
      "cursor_hero_pointer = { path = \"./crates/pointer\" }\n",
      "cursor_hero_screen = { path = \"./crates/screen\" }\n",
      "cursor_hero_toolbelt = { path = \"./crates/toolbelt\" }\n",
      "cursor_hero_tools = { path = \"./crates/tools\" }\n",
      "cursor_hero_ui = { path = \"./crates/ui\" }\n",
      "cursor_hero_winutils = { path = \"./crates/winutils\" }\n",
      "cursor_hero_restart_memory = { path = \"./crates/restart_memory\" }\n",
      "cursor_hero_version = { path = \"./crates/version\" }\n",
      "cursor_hero_plugins = { path = \"./crates/plugins\" }\n",
      "cursor_hero_icon = { path = \"./crates/icon\" }\n",
      "anyhow = \"1.0.75\"\n",
      "# bevy = { path = \"../bevy\", features = [\"dynamic_linking\"] }\n",
      "bevy = { version = \"0.12.1\", git = \"https://github.com/TeamDman/bevy.git\", branch = \"cursor_hero\" }\n",
      "bevy-inspector-egui = { version = \"0.22.1\", git = \"https://github.com/TeamDman/bevy-inspector-egui.git\", branch = \"cursor_hero\" }\n",
      "bevy_xpbd_2d = { git = \"https://github.com/TeamDman/bevy_xpbd.git\", branch = \"cursor_hero\", features = [\n",
      "  \"simd\",\n",
      "  \"parallel\",\n",
      "] }\n",
      "crossbeam-channel = \"0.5.8\"\n",
      "itertools = \"0.12.0\"\n",
      "raw-window-handle = \"0.5.2\"\n",
      "leafwing-input-manager = { git = \"https://github.com/TeamDman/leafwing-input-manager.git\", branch = \"cursor_hero\" }\n",
      "windows = \"0.51.1\"\n",
      "indexmap = \"2.1.0\"\n",
      "image = \"0.24.7\"\n",
      "screenshots = \"0.8.4\"\n",
      "uiautomation = \"0.7.3\"\n",
      "serde = { version = \"1.0\", features = [\"derive\"] }\n",
      "serde_json = \"1.0\"\n",
      "tokio = { version = \"1.32.0\", features = [\"net\", \"full\"] }\n",
      "tokio-named-pipes = \"0.1.0\"\n",
      "syn = { version = \"2.0.48\", features = [\"full\", \"visit-mut\", \"visit\"] }\n",
      "quote = \"1.0.35\"\n",
      "proc-macro2 = \"1.0.76\"\n",
      "bevy_embedded_assets = { version = \"0.9.1\", git = \"https://github.com/TeamDman/bevy_embedded_assets.git\", branch = \"cursor_hero\" }\n",
      "winit = \"0.28.7\"\n",
      "\n",
      "[dependencies]\n",
      "cursor_hero_plugins = { workspace = true }\n",
      "cursor_hero_version = { workspace = true }\n",
      "bevy = { workspace = true }\n",
      "bevy-inspector-egui = { workspace = true }\n",
      "bevy_xpbd_2d = { workspace = true }\n",
      "bevy_embedded_assets = { workspace = true }\n",
      "\n",
      "[dev-dependencies]\n",
      "bevy = { workspace = true, features = [\"dynamic_linking\"] }\n",
      "\n",
      "\n",
      "[build-dependencies]\n",
      "embed-resource = \"1.6.3\"\n",
      "\n",
      "[profile.dev]\n",
      "opt-level = 1\n",
      "\n",
      "[profile.dev.package.\"*\"]\n",
      "opt-level = 3\n",
      "\n",
      "# [patch.crates-io]\n",
      "# winit = { path = \"D:/Repos/rust/winit\" }\n"
     ]
    }
   ],
   "source": [
    "!cat Cargo.toml"
   ]
  },
  {
   "cell_type": "code",
   "execution_count": 9,
   "metadata": {},
   "outputs": [],
   "source": [
    "from pathlib import Path\n",
    "\n",
    "# Define the path to the plugin fileplugin_name = f\"{crate_name.title}Plugin\"\n",
    "plugin_name = f\"{crate_name.replace('_',' ').title().replace(' ','')}Plugin\"\n",
    "template = f\"\"\"use bevy::prelude::*;\n",
    "\n",
    "pub struct {plugin_name};\n",
    "\n",
    "impl Plugin for {plugin_name} {{\n",
    "    fn build(&self, app: &mut App) {{\n",
    "        \n",
    "    }}\n",
    "}}\"\"\"\n",
    "plugin_file_path = Path(\"crates\", crate_name, \"src\", f\"{crate_name}_plugin.rs\")\n",
    "with open(plugin_file_path, \"w\") as file:\n",
    "    file.write(template)\n",
    "\n",
    "\n",
    "# Define the path to the lib.rs file\n",
    "lib_file_path = Path(\"crates\", crate_name, \"src\", \"lib.rs\")\n",
    "\n",
    "# Read the contents of the lib.rs file\n",
    "with open(lib_file_path, \"r\") as file:\n",
    "    lib_contents = file.readlines()\n",
    "\n",
    "# Insert the pub mod statement after the last import statement\n",
    "# last_import_index = next((i for i, line in enumerate(lib_contents) if line.startswith(\"use \")), -1)\n",
    "# lib_contents.insert(last_import_index + 1, f\"pub mod {crate_name}_plugin;\\n\")\n",
    "    \n",
    "# overwrite the default lib.rs template\n",
    "lib_contents = f\"pub mod {crate_name}_plugin;\\n\"\n",
    "\n",
    "# Write the modified contents back to the lib.rs file\n",
    "with open(lib_file_path, \"w\") as file:\n",
    "    file.writelines(lib_contents)\n"
   ]
  },
  {
   "cell_type": "code",
   "execution_count": 10,
   "metadata": {},
   "outputs": [
    {
     "name": "stdout",
     "output_type": "stream",
     "text": [
      "use bevy::prelude::*;\n",
      "\n",
      "pub struct Pause_ToolPlugin;\n",
      "\n",
      "impl Plugin for Pause_ToolPlugin {\n",
      "    fn build(&self, app: &mut App) {\n",
      "        \n",
      "    }\n",
      "}\n"
     ]
    }
   ],
   "source": [
    "!cat crates/$crate_name/src/{crate_name}_plugin.rs"
   ]
  },
  {
   "cell_type": "code",
   "execution_count": 11,
   "metadata": {},
   "outputs": [
    {
     "name": "stdout",
     "output_type": "stream",
     "text": [
      "pub mod pause_tool_plugin;\n"
     ]
    }
   ],
   "source": [
    "!cat crates/$crate_name/src/lib.rs"
   ]
  },
  {
   "cell_type": "code",
   "execution_count": 12,
   "metadata": {},
   "outputs": [],
   "source": [
    "from pathlib import Path\n",
    "\n",
    "# Define the path to the plugin Cargo.toml file\n",
    "plugin_toml_file_path = Path(\"crates\", \"plugins\", \"Cargo.toml\")\n",
    "\n",
    "# Read the contents of the plugin Cargo.toml file\n",
    "with open(plugin_toml_file_path, \"r\") as file:\n",
    "    plugin_toml_contents = file.read()\n",
    "\n",
    "# Modify the contents to insert the dependency\n",
    "modified_plugin_toml_contents = plugin_toml_contents.replace(\"[dependencies]\", f\"[dependencies]\\ncursor_hero_{crate_name} = {{ workspace = true }}\")\n",
    "\n",
    "# Write the modified contents back to the plugin Cargo.toml file\n",
    "with open(plugin_toml_file_path, \"w\") as file:\n",
    "    file.write(modified_plugin_toml_contents)\n"
   ]
  },
  {
   "cell_type": "code",
   "execution_count": 13,
   "metadata": {},
   "outputs": [
    {
     "name": "stdout",
     "output_type": "stream",
     "text": [
      "[package]\n",
      "name = \"cursor_hero_plugins\"\n",
      "version = \"0.1.0\"\n",
      "edition = \"2021\"\n",
      "\n",
      "# See more keys and their definitions at https://doc.rust-lang.org/cargo/reference/manifest.html\n",
      "\n",
      "\n",
      "[dependencies]\n",
      "cursor_hero_pause_tool = { workspace = true }\n",
      "cursor_hero_wallpaper = { workspace = true }\n",
      "cursor_hero_cursor_mirror = {workspace = true}\n",
      "cursor_hero_hover = {workspace = true}\n",
      "cursor_hero_pressure_plate = {workspace = true}\n",
      "cursor_hero_level_bounds = {workspace = true}\n",
      "cursor_hero_input = {workspace = true}\n",
      "cursor_hero_camera = {workspace = true}\n",
      "cursor_hero_character = {workspace = true}\n",
      "cursor_hero_character_movement = {workspace = true}\n",
      "cursor_hero_data = {workspace = true}\n",
      "cursor_hero_metrics = {workspace = true}\n",
      "cursor_hero_click_drag_character_movement = {workspace = true}\n",
      "cursor_hero_physics = {workspace = true}\n",
      "cursor_hero_pointer = {workspace = true}\n",
      "cursor_hero_screen = {workspace = true}\n",
      "cursor_hero_toolbelt = {workspace = true}\n",
      "cursor_hero_tools = {workspace = true}\n",
      "cursor_hero_ui = {workspace = true}\n",
      "cursor_hero_icon = {workspace = true}\n",
      "cursor_hero_winutils = {workspace = true}\n",
      "cursor_hero_restart_memory = {workspace = true}\n",
      "bevy = {workspace = true}\n",
      "\n",
      "[dev-dependencies]\n",
      "cursor_hero_restart_memory = {workspace = true}\n"
     ]
    }
   ],
   "source": [
    "!cat crates/plugins/Cargo.toml"
   ]
  },
  {
   "cell_type": "code",
   "execution_count": 14,
   "metadata": {},
   "outputs": [],
   "source": [
    "from pathlib import Path\n",
    "\n",
    "# Define the path to the lib.rs file\n",
    "lib_file_path = Path(\"crates\", \"plugins\", \"src\", \"lib.rs\")\n",
    "\n",
    "# Read the contents of the lib.rs file\n",
    "with open(lib_file_path, \"r\") as file:\n",
    "    lib_contents = file.readlines()\n",
    "\n",
    "# Find the index of the line with \"pub struct MyPlugin;\"\n",
    "index = next((i for i, line in enumerate(lib_contents) if line.startswith(\"pub struct MyPlugin;\")), -1)\n",
    "\n",
    "# Insert the import statement before the line\n",
    "import_statement = f\"use cursor_hero_{crate_name}::{crate_name}_plugin::{plugin_name};\\n\"\n",
    "lib_contents.insert(index, import_statement)\n",
    "\n",
    "# Write the modified contents back to the lib.rs file\n",
    "with open(lib_file_path, \"w\") as file:\n",
    "    file.writelines(lib_contents)\n"
   ]
  },
  {
   "cell_type": "code",
   "execution_count": 15,
   "metadata": {},
   "outputs": [],
   "source": [
    "from pathlib import Path\n",
    "\n",
    "# Define the path to the plugin file\n",
    "plugin_file_path = Path(\"crates\", \"plugins\", \"src\", f\"lib.rs\")\n",
    "\n",
    "# Read the contents of the plugin file\n",
    "with open(plugin_file_path, \"r\") as file:\n",
    "    plugin_contents = file.readlines()\n",
    "\n",
    "# Find the index of the line with \"fn build(&self, app: &mut App) {\"\n",
    "index = next((i for i, line in enumerate(plugin_contents) if line.strip() == \"fn build(&self, app: &mut App) {\"), -1)\n",
    "\n",
    "# Insert the app.add_plugins($plugin_name) statement after the line\n",
    "plugin_contents.insert(index + 1, f\"        app.add_plugins({plugin_name});\\n\")\n",
    "\n",
    "# Write the modified contents back to the plugin file\n",
    "with open(plugin_file_path, \"w\") as file:\n",
    "    file.writelines(plugin_contents)\n"
   ]
  },
  {
   "cell_type": "code",
   "execution_count": 16,
   "metadata": {},
   "outputs": [
    {
     "name": "stdout",
     "output_type": "stream",
     "text": [
      "use bevy::prelude::*;\n",
      "\n",
      "use cursor_hero_camera::camera_plugin::CameraPlugin;\n",
      "use cursor_hero_character::character_plugin::CharacterPlugin;\n",
      "use cursor_hero_character_movement::CharacterMovementPlugin;\n",
      "use cursor_hero_cursor_mirror::cursor_mirroring_plugin::CursorMirroringPlugin;\n",
      "use cursor_hero_hover::afterimage_plugin::AfterimagePlugin;\n",
      "use cursor_hero_hover::hover_ui_automation_plugin::HoverUiAutomationPlugin;\n",
      "use cursor_hero_input::active_input_state_plugin::ActiveInputStatePlugin;\n",
      "use cursor_hero_level_bounds::level_bounds_plugin::LevelBoundsPlugin;\n",
      "// use cursor_hero_click_drag_character_movement::ClickDragMovementPlugin;\n",
      "use cursor_hero_icon::IconPlugin;\n",
      "use cursor_hero_physics::damping_plugin::DampingPlugin;\n",
      "use cursor_hero_pointer::pointer_plugin::PointerPlugin;\n",
      "use cursor_hero_pressure_plate::pressure_plate_plugin::PressurePlatePlugin;\n",
      "#[cfg(debug_assertions)]\n",
      "use cursor_hero_restart_memory::primary_window_memory_plugin::PrimaryWindowMemoryPlugin;\n",
      "use cursor_hero_screen::screen_plugin::ScreenPlugin;\n",
      "use cursor_hero_screen::screen_update_plugin::ScreenUpdatePlugin;\n",
      "use cursor_hero_toolbelt::ToolbeltPlugin;\n",
      "use cursor_hero_tools::ToolsPlugin;\n",
      "use cursor_hero_ui::about_text_plugin::AboutTextPlugin;\n",
      "use cursor_hero_ui::fps_text_plugin::FpsTextPlugin;\n",
      "use cursor_hero_ui::position_text_plugin::PositionTextPlugin;\n",
      "use cursor_hero_wallpaper::wallpaper_plugin::WallpaperPlugin;\n",
      "use cursor_hero_pause_tool::pause_tool_plugin::Pause_ToolPlugin;\n",
      "pub struct MyPlugin;\n",
      "\n",
      "impl Plugin for MyPlugin {\n",
      "    fn build(&self, app: &mut App) {\n",
      "        app.add_plugins(Pause_ToolPlugin);\n",
      "        app.add_plugins(WallpaperPlugin);\n",
      "        app.add_plugins(ToolsPlugin);\n",
      "        app.add_plugins(ToolbeltPlugin);\n",
      "        app.add_plugins(CharacterPlugin);\n",
      "        app.add_plugins(CharacterMovementPlugin);\n",
      "        app.add_plugins(ActiveInputStatePlugin);\n",
      "        app.add_plugins(AfterimagePlugin);\n",
      "        app.add_plugins(CameraPlugin);\n",
      "        app.add_plugins(FpsTextPlugin);\n",
      "        app.add_plugins(PositionTextPlugin);\n",
      "        app.add_plugins(AboutTextPlugin);\n",
      "        app.add_plugins(PressurePlatePlugin);\n",
      "        app.add_plugins(ScreenPlugin);\n",
      "        app.add_plugins(ScreenUpdatePlugin);\n",
      "        app.add_plugins(CursorMirroringPlugin);\n",
      "        app.add_plugins(HoverUiAutomationPlugin);\n",
      "        app.add_plugins(PointerPlugin);\n",
      "        app.add_plugins(DampingPlugin);\n",
      "        app.add_plugins(LevelBoundsPlugin);\n",
      "        app.add_plugins(IconPlugin);\n",
      "        //app.add_plugins(ClickDragMovementPlugin);\n",
      "        //app.add_plugins(HoverShowerRelayPlugin);\n",
      "        //app.add_plugins(HoverShowerServicePlugin);\n",
      "\n",
      "        #[cfg(debug_assertions)]\n",
      "        app.add_plugins(PrimaryWindowMemoryPlugin);\n",
      "    }\n",
      "}\n"
     ]
    }
   ],
   "source": [
    "!cat crates/plugins/src/lib.rs"
   ]
  }
 ],
 "metadata": {
  "kernelspec": {
   "display_name": "sfm",
   "language": "python",
   "name": "python3"
  },
  "language_info": {
   "codemirror_mode": {
    "name": "ipython",
    "version": 3
   },
   "file_extension": ".py",
   "mimetype": "text/x-python",
   "name": "python",
   "nbconvert_exporter": "python",
   "pygments_lexer": "ipython3",
   "version": "3.10.12"
  }
 },
 "nbformat": 4,
 "nbformat_minor": 2
}
