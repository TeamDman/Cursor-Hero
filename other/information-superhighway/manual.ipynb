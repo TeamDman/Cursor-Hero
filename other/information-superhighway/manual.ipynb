{
 "cells": [
  {
   "cell_type": "code",
   "execution_count": 2,
   "metadata": {},
   "outputs": [
    {
     "name": "stdout",
     "output_type": "stream",
     "text": [
      " different for everyone. Some people may prefer the fast and agile characters, while others may like the slow and powerful ones. There are also those who appreciate the unique abilities of certain characters. Ultimately, it depends on personal preference, skill level, and play style. However, there are several characters in Smash Bros Project M that stand out for various reasons.\n",
      "\n",
      "Here is a list of some top characters in Smash Bros Project M:\n",
      "\n",
      "1. Sonic the Hedgehog - Known for his high speed and agility, Sonic is great for experienced players looking to quickly close the distance between them and their opponents. His unique abilities include the Homing Attack, which allows him to follow enemies in mid-air, and the Spin Dash, a powerful ground pound move that can break through opponent's defensive shields.\n",
      "\n",
      "2. Mega Man - As one of the most versatile characters in the game, Mega Man has a wide range of attacks and projectiles to keep opponents guessing. His Mega Buster and various special moves, such as the Mega Ball and Rush Coil, make him a popular choice for both casual and competitive players.\n",
      "\n",
      "3. Fox McCloud - A fast and acrobatic character, Fox is great for zipping around the stage, avoiding enemy attacks, and delivering quick, powerful combos. His reflector move can also help reflect projectiles back at enemies or deflect their attacks.\n",
      "\n",
      "4. Link - With his extensive moveset and versatile tools, such as bombs, boomerang, and the iconic bow and arrow, Link is a solid choice for beginners and veterans alike. His down special, the bombs, can be particularly useful for setting up traps or catching enemies off-guard.\n",
      "\n",
      "5. Zero - A powerful and fast character from the Mega Man X series, Zero boasts an impressive arsenal of weapons and abilities, including the Saber, Buster, and various special moves like the Double Jump and Z-Saber. His high mobility makes him a difficult opponent to keep up with.\n",
      "\n",
      "6. Samus Aran - With her powerful ranged attacks and melee combos, Samus is another top character in Smash Bros Project M. Her morph ball move allows her to cover large distances quickly and deal significant damage, while her charged shots can be incredibly potent against unsuspecting opponents.\n",
      "\n",
      "7. Ryu - Based on the Street Fighter series, Ryu offers players a classic fighting game experience with his powerful moves and unique playstyle. His fireballs and Shoryuken attacks are particularly noteworthy, allowing him to control the pace of the battle and punish enemies who get too close.\n",
      "\n",
      "These characters represent some of the best in Smash Bros Project M, but there are many other strong contenders as well. The key is to find a character that you enjoy playing and feel comfortable with, which will ultimately lead to success in matches against others.<dummy32000>\n"
     ]
    }
   ],
   "source": [
    "import requests\n",
    "print(requests.post(f\"http://localhost:11434/api/generate\", json={\n",
    "    \"model\": \"whatevs\",\n",
    "    \"prompt\":\"Who is the best character in Smash Bros Project M?\\nThe character that is better than the rest is\",\n",
    "    \"stream\": False,\n",
    "}).json()[\"response\"])"
   ]
  },
  {
   "cell_type": "code",
   "execution_count": null,
   "metadata": {},
   "outputs": [],
   "source": []
  }
 ],
 "metadata": {
  "kernelspec": {
   "display_name": "sfm",
   "language": "python",
   "name": "python3"
  },
  "language_info": {
   "codemirror_mode": {
    "name": "ipython",
    "version": 3
   },
   "file_extension": ".py",
   "mimetype": "text/x-python",
   "name": "python",
   "nbconvert_exporter": "python",
   "pygments_lexer": "ipython3",
   "version": "3.10.12"
  }
 },
 "nbformat": 4,
 "nbformat_minor": 2
}
