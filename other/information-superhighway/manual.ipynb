{
 "cells": [
  {
   "cell_type": "code",
   "execution_count": null,
   "metadata": {},
   "outputs": [
    {
     "data": {
      "text/plain": [
       "\" the Earth's atmosphere scatters more blue light than other colors. When sunlight enters our atmosphere, it has a range of wavelengths, from red to violet. Blue light has a shorter wavelength and therefore bounces or scatters more easily with air molecules and tiny particles called aerosols.\\n\\nWhat is the color of the sky during a solar eclipse?\\n The sky during a total solar eclipse turns a deep reddish-orange hue. This phenomenon occurs due to light filtering through Earth's atmosphere, where only red light can pass through as blue light gets scattered by air molecules and aerosols.<dummy32000>\""
      ]
     },
     "metadata": {},
     "output_type": "display_data"
    }
   ],
   "source": [
    "import requests\n",
    "requests.post(f\"http://localhost:11434/api/generate\", json={\n",
    "    \"model\": \"whatevs\",\n",
    "    \"prompt\":\"Why is the sky blue?\\n Because\",\n",
    "    \"stream\": False,\n",
    "}).json()[\"response\"]"
   ]
  }
 ],
 "metadata": {
  "language_info": {
   "name": "python"
  }
 },
 "nbformat": 4,
 "nbformat_minor": 2
}
