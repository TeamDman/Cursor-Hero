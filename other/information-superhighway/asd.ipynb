{
 "cells": [
  {
   "cell_type": "code",
   "execution_count": 10,
   "metadata": {},
   "outputs": [],
   "source": [
    "import requests\n",
    "resp = requests.post('http://localhost:11434/api/generate', json={\n",
    "    \"model\": \"whatevs\",\n",
    "    \"prompt\":\"Why is the sky blue?\\n\",\n",
    "    \"stream\": False,\n",
    "})"
   ]
  },
  {
   "cell_type": "code",
   "execution_count": 12,
   "metadata": {},
   "outputs": [
    {
     "name": "stdout",
     "output_type": "stream",
     "text": [
      "\n",
      "The blue color of the sky is due to the scattering of sunlight by air molecules and dust particles. The atmosphere scatters longer wavelengths of light more than shorter ones, which means that it scatters blue light more efficiently than red light.\n",
      "\n",
      "When you look at the sky, you're actually seeing sunlight that has been scattered by air molecules and dust particles in the Earth's atmosphere. These small particles are so tiny compared to the wavelength of visible light that they cannot absorb all the colors of light at once. Instead, they scatter some of the light more efficiently than others.\n",
      "\n",
      "The shorter wavelength blue light is scattered much more effectively by these particles than the longer wavelength red light. This is why we see a blue sky during the day when the Sun is out. The blue light is scattered around, making the sky appear blue to our eyes. At night, there's less scattering because there's no direct sunlight to be scattered.\n",
      "\n",
      "It's also interesting to note that the sky appears more blue when it's closer to the horizon, which is due to the fact that light has to travel through more of the atmosphere to reach our eyes, causing even more scattering and making the blue color more intense.\n",
      "\n",
      "In summary, the sky is blue because air molecules and dust particles in the Earth's atmosphere scatter shorter wavelength blue light more efficiently than longer wavelength red light. This scattering effect is more pronounced when the Sun is lower in the sky or closer to the horizon, causing the blue color to appear more intense.\n"
     ]
    }
   ],
   "source": [
    "print(resp.json()[\"response\"])"
   ]
  },
  {
   "cell_type": "code",
   "execution_count": 18,
   "metadata": {},
   "outputs": [
    {
     "data": {
      "text/plain": [
       "'1. move_cursor(IVec2(51, 1040))\\n2. move_cursor(IVec2(212, 1040))\\n3. move_cursor(IVec2(373, 1040))\\n4. move_cursor(IVec2(422, 1040))\\n5. move_cursor(IVec2(583, 1040))\\n6. move_cursor(IVec2(632, 1040))\\n7. move_cursor(IVec2(681, 1040))\\n8. move_cursor(IVec2(842, 1040))\\n9. move_cursor(IVec2(1003, 1040))'"
      ]
     },
     "execution_count": 18,
     "metadata": {},
     "output_type": "execute_result"
    }
   ],
   "source": [
    "from pathlib import Path\n",
    "prompt = next(Path(\"inputs\").glob(\"*.txt\")).read_text()\n",
    "requests.post('http://localhost:11434/api/generate', json={\n",
    "    \"model\": \"whatevs\",\n",
    "    \"prompt\": prompt,\n",
    "    \"stream\": False,\n",
    "}).json()[\"response\"]"
   ]
  }
 ],
 "metadata": {
  "kernelspec": {
   "display_name": "sfm",
   "language": "python",
   "name": "python3"
  },
  "language_info": {
   "codemirror_mode": {
    "name": "ipython",
    "version": 3
   },
   "file_extension": ".py",
   "mimetype": "text/x-python",
   "name": "python",
   "nbconvert_exporter": "python",
   "pygments_lexer": "ipython3",
   "version": "3.10.12"
  }
 },
 "nbformat": 4,
 "nbformat_minor": 2
}
