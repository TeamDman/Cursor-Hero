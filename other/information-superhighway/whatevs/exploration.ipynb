{
 "cells": [
  {
   "cell_type": "markdown",
   "metadata": {},
   "source": [
    "Make sure to run `ollama serve` in WSL.  \n",
    "Visit [http://localhost:11434](http://localhost:11434) to verify access from Windows.  \n",
    "If the port isn't accessible from Windows, then just restart the computer."
   ]
  },
  {
   "cell_type": "code",
   "execution_count": 2,
   "metadata": {},
   "outputs": [
    {
     "name": "stdout",
     "output_type": "stream",
     "text": [
      "Active file: 007 - calculator btn.txt\n",
      "\n",
      "λMovementToolAction::Move(0.5, 1)\n",
      "\n",
      "You move towards the calculator.<dummy32000>\n"
     ]
    }
   ],
   "source": [
    "import requests\n",
    "from pathlib import Path\n",
    "folder = Path(\"exploration\")\n",
    "active = sorted([x for x in list(folder.glob(\"*.txt\")) if \"out\" not in x.name])[-1]\n",
    "print(\"Active file:\", active.name)\n",
    "prompt = active.read_text()\n",
    "outfile = folder / active.name.replace(\".txt\", \".out.txt\")\n",
    "\n",
    "\n",
    "\n",
    "resp = requests.post('http://localhost:11434/api/generate', json={\n",
    "    \"model\": \"whatevs\",\n",
    "    \"prompt\": prompt,\n",
    "    \"stream\": False,\n",
    "})\n",
    "text = resp.json()[\"response\"]\n",
    "outfile.write_text(text)\n",
    "print(text)"
   ]
  }
 ],
 "metadata": {
  "kernelspec": {
   "display_name": "sfm",
   "language": "python",
   "name": "python3"
  },
  "language_info": {
   "codemirror_mode": {
    "name": "ipython",
    "version": 3
   },
   "file_extension": ".py",
   "mimetype": "text/x-python",
   "name": "python",
   "nbconvert_exporter": "python",
   "pygments_lexer": "ipython3",
   "version": "3.10.12"
  }
 },
 "nbformat": 4,
 "nbformat_minor": 2
}
