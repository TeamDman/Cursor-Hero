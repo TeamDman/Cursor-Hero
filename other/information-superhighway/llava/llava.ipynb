{
 "cells": [
  {
   "cell_type": "markdown",
   "metadata": {},
   "source": [
    "Make sure to run `ollama serve` in WSL.  \n",
    "Visit [http://localhost:11434](http://localhost:11434) to verify access from Windows.  \n",
    "If the port isn't accessible from Windows, then just restart the computer."
   ]
  },
  {
   "cell_type": "code",
   "execution_count": 3,
   "metadata": {},
   "outputs": [
    {
     "name": "stdout",
     "output_type": "stream",
     "text": [
      "Prompt path: 011 - trinitarianism.txt\n",
      "Image path: 011 - trinitarianism.png\n",
      " The image shows a screenshot of a social media post. The post features a meme with a text overlay that reads \"Trinitarianism is incorrect.\" Below the text, there are images of two religious texts: \"The Church of Nicene\" and \"Holy Spirit and 318 Bishops.\"\n",
      "\n",
      "The user interface indicates that the post has been made by someone named \"Arius.\" The meme is likely intended to express a disagreement with the concept of Trinitarianism, which is a belief held by certain Christian denominations that there are three persons—the Father, Son, and Holy Spirit—in one Godhead.\n",
      "\n",
      "The reaction to this post seems to be positive for Arius, as evidenced by the \"God\" emoji indicating approval or agreement. However, it's important to note that religious beliefs can be deeply personal and sensitive, and sharing such content may lead to different interpretations and responses from different individuals. \n"
     ]
    }
   ],
   "source": [
    "import base64\n",
    "from PIL import Image\n",
    "import requests\n",
    "from pathlib import Path\n",
    "folder = Path(\"transcripts\")\n",
    "found = sorted([x for x in list(folder.glob(\"*.txt\")) if \"out\" not in x.name])\n",
    "\n",
    "prompt_path = found[-1]\n",
    "outfile = folder / prompt_path.name.replace(\".txt\", \".out.txt\")\n",
    "print(\"Prompt path:\", prompt_path.name)\n",
    "\n",
    "def get_image_path(prompt_path: Path) -> Path:\n",
    "    image_extensions = [\".png\", \".jpg\", \".jpeg\", \".gif\", \".bmp\", \".tiff\", \".webp\"]\n",
    "    i, rest = prompt_path.stem.split(\" \", 1)\n",
    "    i = int(i)\n",
    "    while i > 0:\n",
    "        for ext in image_extensions:\n",
    "            image_path = folder / f\"{i:03} {rest}{ext}\"\n",
    "            if image_path.exists():\n",
    "                return image_path\n",
    "        i -= 1\n",
    "    return None\n",
    "\n",
    "image_path = get_image_path(prompt_path)\n",
    "assert image_path is not None and image_path.exists(), f\"No image found for {prompt_path.name}\"\n",
    "print(\"Image path:\", image_path.name)\n",
    "\n",
    "with open(image_path, \"rb\") as image_file:\n",
    "    image_bytes = image_file.read()\n",
    "image_b64 = base64.b64encode(image_bytes).decode(\"utf-8\")\n",
    "\n",
    "prompt = prompt_path.read_text()\n",
    "\n",
    "resp = requests.post('http://localhost:11434/api/generate', json={\n",
    "    \"model\": \"llava\",\n",
    "    \"prompt\": prompt,\n",
    "    \"stream\": False,\n",
    "    \"images\": [image_b64],\n",
    "})\n",
    "text = resp.json()[\"response\"]\n",
    "outfile.write_text(text)\n",
    "print(text)"
   ]
  },
  {
   "cell_type": "code",
   "execution_count": 2,
   "metadata": {},
   "outputs": [
    {
     "data": {
      "text/plain": [
       "WindowsPath('transcripts/011 - wizard nuts.txt')"
      ]
     },
     "execution_count": 2,
     "metadata": {},
     "output_type": "execute_result"
    }
   ],
   "source": [
    "i, rest = prompt_path.name.split(\" \", 1)\n",
    "i = int(i)\n",
    "i += 1\n",
    "new_path = folder / f\"{i:03} {rest}\"\n",
    "import shutil\n",
    "shutil.copy(prompt_path, new_path)"
   ]
  }
 ],
 "metadata": {
  "kernelspec": {
   "display_name": "sfm",
   "language": "python",
   "name": "python3"
  },
  "language_info": {
   "codemirror_mode": {
    "name": "ipython",
    "version": 3
   },
   "file_extension": ".py",
   "mimetype": "text/x-python",
   "name": "python",
   "nbconvert_exporter": "python",
   "pygments_lexer": "ipython3",
   "version": "3.10.12"
  }
 },
 "nbformat": 4,
 "nbformat_minor": 2
}
