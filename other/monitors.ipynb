{
 "cells": [
  {
   "cell_type": "code",
   "execution_count": 1,
   "metadata": {},
   "outputs": [
    {
     "name": "stdout",
     "output_type": "stream",
     "text": [
      "Monitor Size: 1920x1080\n",
      "Monitor Location: 1920x0\n",
      "\n",
      "Monitor Size: 1920x1080\n",
      "Monitor Location: 0x0\n",
      "\n",
      "Monitor Size: 2048x1152\n",
      "Monitor Location: -2048x-77\n",
      "\n"
     ]
    }
   ],
   "source": [
    "import screeninfo\n",
    "\n",
    "# Get the list of monitors\n",
    "monitors = screeninfo.get_monitors()\n",
    "\n",
    "# Iterate over each monitor and print its size and location\n",
    "for monitor in monitors:\n",
    "    print(\"Monitor Size: {}x{}\".format(monitor.width, monitor.height))\n",
    "    print(\"Monitor Location: {}x{}\".format(monitor.x, monitor.y))\n",
    "    print()\n"
   ]
  }
 ],
 "metadata": {
  "kernelspec": {
   "display_name": "sfm",
   "language": "python",
   "name": "python3"
  },
  "language_info": {
   "codemirror_mode": {
    "name": "ipython",
    "version": 3
   },
   "file_extension": ".py",
   "mimetype": "text/x-python",
   "name": "python",
   "nbconvert_exporter": "python",
   "pygments_lexer": "ipython3",
   "version": "3.10.12"
  }
 },
 "nbformat": 4,
 "nbformat_minor": 2
}
