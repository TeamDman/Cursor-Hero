{
 "cells": [
  {
   "cell_type": "code",
   "execution_count": 1,
   "metadata": {},
   "outputs": [
    {
     "data": {
      "text/plain": [
       "'Images successfully saved.'"
      ]
     },
     "execution_count": 1,
     "metadata": {},
     "output_type": "execute_result"
    }
   ],
   "source": [
    "from PIL import Image\n",
    "import os\n",
    "\n",
    "def divide_image_into_four(input_image_path, output_folder):\n",
    "    \"\"\"\n",
    "    Divides an input image into four equal parts and saves them as separate images.\n",
    "\n",
    "    Args:\n",
    "    input_image_path (str): The path to the input image.\n",
    "    output_folder (str): The folder where the output images will be saved.\n",
    "    \"\"\"\n",
    "\n",
    "    try:\n",
    "        # Load the image\n",
    "        img = Image.open(input_image_path)\n",
    "\n",
    "        # Calculate dimensions for the split\n",
    "        width, height = img.size\n",
    "        mid_width, mid_height = width // 2, height // 2\n",
    "\n",
    "        # Define the bounding boxes for the four parts\n",
    "        boxes = [\n",
    "            (0, 0, mid_width, mid_height),  # Top-left\n",
    "            (mid_width, 0, width, mid_height),  # Top-right\n",
    "            (0, mid_height, mid_width, height),  # Bottom-left\n",
    "            (mid_width, mid_height, width, height)  # Bottom-right\n",
    "        ]\n",
    "\n",
    "        # Create and save the four parts\n",
    "        for i, box in enumerate(boxes):\n",
    "            part = img.crop(box)\n",
    "            part.save(os.path.join(output_folder, f\"part_{i + 1}.png\"))\n",
    "\n",
    "        return \"Images successfully saved.\"\n",
    "\n",
    "    except Exception as e:\n",
    "        return str(e)\n",
    "\n",
    "# Example usage\n",
    "from glob import glob\n",
    "input_image_path = list(glob(\"input/*.*\"))[0]\n",
    "output_folder = \"output/\"\n",
    "divide_image_into_four(input_image_path, output_folder)"
   ]
  }
 ],
 "metadata": {
  "kernelspec": {
   "display_name": "sfm",
   "language": "python",
   "name": "python3"
  },
  "language_info": {
   "codemirror_mode": {
    "name": "ipython",
    "version": 3
   },
   "file_extension": ".py",
   "mimetype": "text/x-python",
   "name": "python",
   "nbconvert_exporter": "python",
   "pygments_lexer": "ipython3",
   "version": "3.10.12"
  }
 },
 "nbformat": 4,
 "nbformat_minor": 2
}
