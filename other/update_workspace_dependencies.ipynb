{
 "cells": [
  {
   "cell_type": "code",
   "execution_count": 5,
   "metadata": {},
   "outputs": [
    {
     "name": "stdout",
     "output_type": "stream",
     "text": [
      "Collecting toml\n",
      "  Downloading toml-0.10.2-py2.py3-none-any.whl (16 kB)\n",
      "Installing collected packages: toml\n",
      "Successfully installed toml-0.10.2\n",
      "Note: you may need to restart the kernel to use updated packages.\n"
     ]
    }
   ],
   "source": [
    "%pip install toml"
   ]
  },
  {
   "cell_type": "code",
   "execution_count": 10,
   "metadata": {},
   "outputs": [
    {
     "data": {
      "text/plain": [
       "'d:\\\\Repos\\\\Games\\\\Cursor-Hero\\\\other'"
      ]
     },
     "execution_count": 10,
     "metadata": {},
     "output_type": "execute_result"
    }
   ],
   "source": [
    "%pwd"
   ]
  },
  {
   "cell_type": "code",
   "execution_count": 15,
   "metadata": {},
   "outputs": [
    {
     "name": "stdout",
     "output_type": "stream",
     "text": [
      "Processing ..\\crates\\camera\\Cargo.toml\n",
      "Processing ..\\crates\\character\\Cargo.toml\n",
      "Processing ..\\crates\\cursor_mirror\\Cargo.toml\n",
      "Processing ..\\crates\\data\\Cargo.toml\n",
      "Processing ..\\crates\\hover\\Cargo.toml\n",
      "Processing ..\\crates\\input\\Cargo.toml\n",
      "Processing ..\\crates\\level_bounds\\Cargo.toml\n",
      "Processing ..\\crates\\metrics\\Cargo.toml\n",
      "Processing ..\\crates\\movement\\Cargo.toml\n",
      "Processing ..\\crates\\physics\\Cargo.toml\n",
      "Processing ..\\crates\\pointer\\Cargo.toml\n",
      "Processing ..\\crates\\pressure_plate\\Cargo.toml\n",
      "Processing ..\\crates\\screen\\Cargo.toml\n",
      "Processing ..\\crates\\toolbelt\\Cargo.toml\n",
      "Processing ..\\crates\\tools\\Cargo.toml\n",
      "Processing ..\\crates\\ui\\Cargo.toml\n",
      "Processing ..\\crates\\winutils\\Cargo.toml\n"
     ]
    }
   ],
   "source": [
    "import pathlib\n",
    "import toml\n",
    "\n",
    "# Path to the parent Cargo.toml\n",
    "parent_cargo_path = pathlib.Path('../Cargo.toml')\n",
    "# Read the parent Cargo.toml\n",
    "with open(parent_cargo_path, 'r') as file:\n",
    "    parent_data = toml.load(file)\n",
    "parent_dependencies = parent_data.get('dependencies', {})\n",
    "\n",
    "# Get the list of all child Cargo.toml files\n",
    "child_cargo_files = pathlib.Path('../crates').glob('**/Cargo.toml')\n",
    "\n",
    "# Process each child Cargo.toml file\n",
    "for child_cargo_file in child_cargo_files:\n",
    "    print(f\"Processing {child_cargo_file}\")\n",
    "    with open(child_cargo_file, 'r') as file:\n",
    "        child_data = toml.load(file)\n",
    "\n",
    "    if 'dependencies' in child_data:\n",
    "        for dep, value in child_data['dependencies'].items():\n",
    "            if not dep.startswith('cursor_'):\n",
    "                child_data['dependencies'][dep] = {'workspace': True}\n",
    "                if dep not in parent_dependencies:\n",
    "                    parent_dependencies[dep] = value\n",
    "\n",
    "    # Write updated child Cargo.toml\n",
    "    with open(child_cargo_file, 'w') as file:\n",
    "        toml.dump(child_data, file)\n",
    "\n",
    "# Update parent Cargo.toml if needed\n",
    "if parent_data.get('dependencies', {}) != parent_dependencies:\n",
    "    parent_data['dependencies'] = parent_dependencies\n",
    "    with open(parent_cargo_path, 'w') as file:\n",
    "        toml.dump(parent_data, file)\n"
   ]
  }
 ],
 "metadata": {
  "kernelspec": {
   "display_name": "sfm",
   "language": "python",
   "name": "python3"
  },
  "language_info": {
   "codemirror_mode": {
    "name": "ipython",
    "version": 3
   },
   "file_extension": ".py",
   "mimetype": "text/x-python",
   "name": "python",
   "nbconvert_exporter": "python",
   "pygments_lexer": "ipython3",
   "version": "3.10.12"
  }
 },
 "nbformat": 4,
 "nbformat_minor": 2
}
