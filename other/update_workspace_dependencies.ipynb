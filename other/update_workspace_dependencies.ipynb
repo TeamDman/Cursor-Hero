{
 "cells": [
  {
   "cell_type": "code",
   "execution_count": 7,
   "metadata": {},
   "outputs": [
    {
     "name": "stdout",
     "output_type": "stream",
     "text": [
      "Found Cargo.toml: ..\\crates\\camera\\Cargo.toml\n",
      "Found Cargo.toml: ..\\crates\\character\\Cargo.toml\n",
      "Found Cargo.toml: ..\\crates\\cursor_mirror\\Cargo.toml\n",
      "Found Cargo.toml: ..\\crates\\data\\Cargo.toml\n",
      "Found Cargo.toml: ..\\crates\\hover\\Cargo.toml\n",
      "Found Cargo.toml: ..\\crates\\input\\Cargo.toml\n",
      "Found Cargo.toml: ..\\crates\\level_bounds\\Cargo.toml\n",
      "Found Cargo.toml: ..\\crates\\metrics\\Cargo.toml\n",
      "Found Cargo.toml: ..\\crates\\movement\\Cargo.toml\n",
      "Found Cargo.toml: ..\\crates\\physics\\Cargo.toml\n",
      "Found Cargo.toml: ..\\crates\\pointer\\Cargo.toml\n",
      "Found Cargo.toml: ..\\crates\\pressure_plate\\Cargo.toml\n",
      "Found Cargo.toml: ..\\crates\\screen\\Cargo.toml\n",
      "Found Cargo.toml: ..\\crates\\toolbelt\\Cargo.toml\n",
      "Found Cargo.toml: ..\\crates\\tools\\Cargo.toml\n",
      "Found Cargo.toml: ..\\crates\\ui\\Cargo.toml\n",
      "Found Cargo.toml: ..\\crates\\winutils\\Cargo.toml\n",
      "[WindowsPath('../crates/camera/Cargo.toml'), WindowsPath('../crates/character/Cargo.toml'), WindowsPath('../crates/cursor_mirror/Cargo.toml'), WindowsPath('../crates/data/Cargo.toml'), WindowsPath('../crates/hover/Cargo.toml'), WindowsPath('../crates/input/Cargo.toml'), WindowsPath('../crates/level_bounds/Cargo.toml'), WindowsPath('../crates/metrics/Cargo.toml'), WindowsPath('../crates/movement/Cargo.toml'), WindowsPath('../crates/physics/Cargo.toml'), WindowsPath('../crates/pointer/Cargo.toml'), WindowsPath('../crates/pressure_plate/Cargo.toml'), WindowsPath('../crates/screen/Cargo.toml'), WindowsPath('../crates/toolbelt/Cargo.toml'), WindowsPath('../crates/tools/Cargo.toml'), WindowsPath('../crates/ui/Cargo.toml'), WindowsPath('../crates/winutils/Cargo.toml')]\n"
     ]
    }
   ],
   "source": [
    "from pathlib import Path\n",
    "import re\n",
    "\n",
    "# Get the list of all Cargo.toml files\n",
    "cargo_files = []\n",
    "for file in Path(\"../crates/\").glob(\"**/Cargo.toml\"):\n",
    "    print(f\"Found Cargo.toml: {file}\")\n",
    "    cargo_files.append(file)\n",
    "print(cargo_files)"
   ]
  },
  {
   "cell_type": "code",
   "execution_count": 8,
   "metadata": {},
   "outputs": [
    {
     "name": "stdout",
     "output_type": "stream",
     "text": [
      "Updated ..\\crates\\camera\\Cargo.toml\n",
      "Updated ..\\crates\\character\\Cargo.toml\n",
      "Updated ..\\crates\\cursor_mirror\\Cargo.toml\n",
      "Updated ..\\crates\\data\\Cargo.toml\n",
      "Updated ..\\crates\\hover\\Cargo.toml\n",
      "Updated ..\\crates\\input\\Cargo.toml\n",
      "Updated ..\\crates\\level_bounds\\Cargo.toml\n",
      "Updated ..\\crates\\metrics\\Cargo.toml\n",
      "Updated ..\\crates\\movement\\Cargo.toml\n",
      "Updated ..\\crates\\physics\\Cargo.toml\n",
      "Updated ..\\crates\\pointer\\Cargo.toml\n",
      "Updated ..\\crates\\pressure_plate\\Cargo.toml\n",
      "Updated ..\\crates\\screen\\Cargo.toml\n",
      "Updated ..\\crates\\toolbelt\\Cargo.toml\n",
      "Updated ..\\crates\\tools\\Cargo.toml\n",
      "Updated ..\\crates\\ui\\Cargo.toml\n",
      "Updated ..\\crates\\winutils\\Cargo.toml\n"
     ]
    }
   ],
   "source": [
    "# Iterate over each Cargo.toml file\n",
    "for cargo_file in cargo_files:\n",
    "    with open(cargo_file, 'r') as file:\n",
    "        lines = file.readlines()\n",
    "\n",
    "    # Flag to check if we are in the dependencies section\n",
    "    in_dependencies_section = False\n",
    "    # Find entries in [dependencies] that don't begin with \"cursor_\"\n",
    "    for i, line in enumerate(lines):\n",
    "        if '[dependencies]' in line.strip():\n",
    "            in_dependencies_section = True\n",
    "        elif in_dependencies_section and line.startswith('['):\n",
    "            # End of dependencies section\n",
    "            in_dependencies_section = False\n",
    "\n",
    "        if in_dependencies_section:\n",
    "            if not line.strip().startswith('cursor_') and '=' in line:\n",
    "                dependency = line.split('=')[0].strip()\n",
    "                lines[i] = f'{dependency} = {{ workspace = true }}\\n'\n",
    "\n",
    "    # Write the updated lines back to the Cargo.toml file\n",
    "    # with open(cargo_file, 'w') as file:\n",
    "    #     file.writelines(lines)\n",
    "\n",
    "    print(f'Updated {cargo_file}')\n"
   ]
  }
 ],
 "metadata": {
  "kernelspec": {
   "display_name": "sfm",
   "language": "python",
   "name": "python3"
  },
  "language_info": {
   "codemirror_mode": {
    "name": "ipython",
    "version": 3
   },
   "file_extension": ".py",
   "mimetype": "text/x-python",
   "name": "python",
   "nbconvert_exporter": "python",
   "pygments_lexer": "ipython3",
   "version": "3.10.12"
  }
 },
 "nbformat": 4,
 "nbformat_minor": 2
}
