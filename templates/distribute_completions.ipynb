{
 "cells": [
  {
   "cell_type": "code",
   "execution_count": 21,
   "metadata": {},
   "outputs": [
    {
     "name": "stdout",
     "output_type": "stream",
     "text": [
      "matchers\\new_plugin_with_types\\crates\\plugins\\Cargo.toml.py\n",
      "matchers\\new_plugin_with_types\\crates\\plugins\\src\\lib.rs.py\n",
      "matchers\\new_tool\\Cargo.toml.py\n",
      "matchers\\new_tool\\crates\\plugins\\Cargo.toml.py\n",
      "matchers\\new_tool\\crates\\plugins\\src\\lib.rs.py\n"
     ]
    }
   ],
   "source": [
    "from pathlib import Path\n",
    "import re\n",
    "\n",
    "# Define the Matchers directory\n",
    "matchers_dir = Path(\"./matchers\")\n",
    "\n",
    "# Find all .py files containing \"TODO\"\n",
    "todo_files = [f for f in matchers_dir.glob(\"**/*.py\") if \"TODO\" in f.read_text()]\n",
    "\n",
    "# Display the files found\n",
    "for file in todo_files:\n",
    "    print(file)"
   ]
  },
  {
   "cell_type": "code",
   "execution_count": 28,
   "metadata": {},
   "outputs": [],
   "source": [
    "def extract_commented_template(file_path):\n",
    "    content = file_path.read_text()\n",
    "    template_content = \"\"\n",
    "    for line in content.splitlines():\n",
    "        if line.startswith(\"#\"):\n",
    "            # template_content += line[1:] + \"\\n\"  # Remove the \"#\" and add the line\n",
    "            template_content += line + \"\\n\"  # Remove the \"#\" and add the line\n",
    "        else:\n",
    "            break  # Stop reading once non-commented content is reached\n",
    "    return template_content.strip()\n"
   ]
  },
  {
   "cell_type": "code",
   "execution_count": 29,
   "metadata": {},
   "outputs": [],
   "source": [
    "def extract_variables(template_content):\n",
    "    # Regular expression to find all instances of {{variable_name}}\n",
    "    pattern = re.compile(r'\\{\\{(\\w+)\\}\\}')\n",
    "    # Find all matches and return them as a set to ensure uniqueness\n",
    "    return set(pattern.findall(template_content))\n",
    "def find_matching_implementation(todo_file):\n",
    "    todo_template_content = extract_commented_template(todo_file)\n",
    "    todo_variables = extract_variables(todo_template_content)\n",
    "\n",
    "    for file in matchers_dir.glob(\"**/*.py\"):\n",
    "        print(\"Checking file:\", file)\n",
    "        if file not in todo_files and \"TODO\" not in file.read_text():\n",
    "            # Extract variables from the current file being checked\n",
    "            file_template_content = extract_commented_template(file)\n",
    "            file_variables = extract_variables(file_template_content)\n",
    "\n",
    "            # Compare the sets of variables\n",
    "            if todo_variables == file_variables:\n",
    "                return file\n",
    "    return None"
   ]
  },
  {
   "cell_type": "code",
   "execution_count": 30,
   "metadata": {},
   "outputs": [],
   "source": [
    "def extract_implementation_content(file_path):\n",
    "    content = file_path.read_text()\n",
    "    implementation_content = \"\"\n",
    "    past_comments = False\n",
    "    for line in content.splitlines():\n",
    "        if past_comments or not line.startswith(\"#\"):\n",
    "            past_comments = True\n",
    "            implementation_content += line + \"\\n\"\n",
    "    return implementation_content.strip()\n"
   ]
  },
  {
   "cell_type": "code",
   "execution_count": 31,
   "metadata": {},
   "outputs": [],
   "source": [
    "todo_files.sort(key=lambda x: len(x.parts))"
   ]
  },
  {
   "cell_type": "code",
   "execution_count": 32,
   "metadata": {},
   "outputs": [
    {
     "name": "stdout",
     "output_type": "stream",
     "text": [
      "Checking file: matchers\\new_plugin_with_types\\Cargo.toml.py\n",
      "Updated: matchers\\new_tool\\Cargo.toml.py with template from matchers\\new_plugin_with_types\\Cargo.toml.py\n",
      "Checking file: matchers\\new_plugin_with_types\\Cargo.toml.py\n",
      "Checking file: matchers\\new_plugin_with_types\\crates\\plugins\\Cargo.toml.py\n",
      "Checking file: matchers\\new_plugin_with_types\\crates\\plugins\\src\\lib.rs.py\n",
      "Checking file: matchers\\new_plugin_with_types\\crates\\{{crate_name}}\\Cargo.toml.py\n",
      "Checking file: matchers\\new_plugin_with_types\\crates\\{{crate_name}}\\src\\lib.rs.py\n",
      "Checking file: matchers\\new_plugin_with_types\\crates\\{{crate_name}}\\src\\{{crate_name}}_types.rs.py\n",
      "Checking file: matchers\\new_plugin_with_types\\crates\\{{crate_name}}\\src\\{{crate_name}}_types_plugin.rs.py\n",
      "Checking file: matchers\\new_plugin_with_types\\crates\\{{crate_name}}_types\\Cargo.toml.py\n",
      "Checking file: matchers\\new_plugin_with_types\\crates\\{{crate_name}}_types\\src\\lib.rs.py\n",
      "Checking file: matchers\\new_plugin_with_types\\crates\\{{crate_name}}_types\\src\\{{crate_name}}_types_plugin.rs.py\n",
      "Checking file: matchers\\new_tool\\Cargo.toml.py\n",
      "Checking file: matchers\\new_tool\\crates\\plugins\\Cargo.toml.py\n",
      "Checking file: matchers\\new_tool\\crates\\plugins\\src\\lib.rs.py\n",
      "Checking file: matchers\\new_tool\\crates\\{{crate_name}}_tool\\Cargo.toml.py\n",
      "Checking file: matchers\\new_tool\\crates\\{{crate_name}}_tool\\src\\lib.rs.py\n",
      "Checking file: matchers\\new_tool\\crates\\{{crate_name}}_tool\\src\\{{crate_name}}_tool_plugin.rs.py\n",
      "No matching implementation found for matchers\\new_plugin_with_types\\crates\\plugins\\Cargo.toml.py\n",
      "Checking file: matchers\\new_plugin_with_types\\Cargo.toml.py\n",
      "Checking file: matchers\\new_plugin_with_types\\crates\\plugins\\Cargo.toml.py\n",
      "Checking file: matchers\\new_plugin_with_types\\crates\\plugins\\src\\lib.rs.py\n",
      "Checking file: matchers\\new_plugin_with_types\\crates\\{{crate_name}}\\Cargo.toml.py\n",
      "Checking file: matchers\\new_plugin_with_types\\crates\\{{crate_name}}\\src\\lib.rs.py\n",
      "Checking file: matchers\\new_plugin_with_types\\crates\\{{crate_name}}\\src\\{{crate_name}}_types.rs.py\n",
      "Checking file: matchers\\new_plugin_with_types\\crates\\{{crate_name}}\\src\\{{crate_name}}_types_plugin.rs.py\n",
      "Checking file: matchers\\new_plugin_with_types\\crates\\{{crate_name}}_types\\Cargo.toml.py\n",
      "Checking file: matchers\\new_plugin_with_types\\crates\\{{crate_name}}_types\\src\\lib.rs.py\n",
      "Checking file: matchers\\new_plugin_with_types\\crates\\{{crate_name}}_types\\src\\{{crate_name}}_types_plugin.rs.py\n",
      "Checking file: matchers\\new_tool\\Cargo.toml.py\n",
      "Checking file: matchers\\new_tool\\crates\\plugins\\Cargo.toml.py\n",
      "Checking file: matchers\\new_tool\\crates\\plugins\\src\\lib.rs.py\n",
      "Checking file: matchers\\new_tool\\crates\\{{crate_name}}_tool\\Cargo.toml.py\n",
      "Checking file: matchers\\new_tool\\crates\\{{crate_name}}_tool\\src\\lib.rs.py\n",
      "Checking file: matchers\\new_tool\\crates\\{{crate_name}}_tool\\src\\{{crate_name}}_tool_plugin.rs.py\n",
      "No matching implementation found for matchers\\new_tool\\crates\\plugins\\Cargo.toml.py\n",
      "Checking file: matchers\\new_plugin_with_types\\Cargo.toml.py\n",
      "Checking file: matchers\\new_plugin_with_types\\crates\\plugins\\Cargo.toml.py\n",
      "Checking file: matchers\\new_plugin_with_types\\crates\\plugins\\src\\lib.rs.py\n",
      "Checking file: matchers\\new_plugin_with_types\\crates\\{{crate_name}}\\Cargo.toml.py\n",
      "Checking file: matchers\\new_plugin_with_types\\crates\\{{crate_name}}\\src\\lib.rs.py\n",
      "Checking file: matchers\\new_plugin_with_types\\crates\\{{crate_name}}\\src\\{{crate_name}}_types.rs.py\n",
      "Checking file: matchers\\new_plugin_with_types\\crates\\{{crate_name}}\\src\\{{crate_name}}_types_plugin.rs.py\n",
      "Checking file: matchers\\new_plugin_with_types\\crates\\{{crate_name}}_types\\Cargo.toml.py\n",
      "Checking file: matchers\\new_plugin_with_types\\crates\\{{crate_name}}_types\\src\\lib.rs.py\n",
      "Checking file: matchers\\new_plugin_with_types\\crates\\{{crate_name}}_types\\src\\{{crate_name}}_types_plugin.rs.py\n",
      "Checking file: matchers\\new_tool\\Cargo.toml.py\n",
      "Checking file: matchers\\new_tool\\crates\\plugins\\Cargo.toml.py\n",
      "Checking file: matchers\\new_tool\\crates\\plugins\\src\\lib.rs.py\n",
      "Checking file: matchers\\new_tool\\crates\\{{crate_name}}_tool\\Cargo.toml.py\n",
      "Checking file: matchers\\new_tool\\crates\\{{crate_name}}_tool\\src\\lib.rs.py\n",
      "Checking file: matchers\\new_tool\\crates\\{{crate_name}}_tool\\src\\{{crate_name}}_tool_plugin.rs.py\n",
      "No matching implementation found for matchers\\new_plugin_with_types\\crates\\plugins\\src\\lib.rs.py\n",
      "Checking file: matchers\\new_plugin_with_types\\Cargo.toml.py\n",
      "Checking file: matchers\\new_plugin_with_types\\crates\\plugins\\Cargo.toml.py\n",
      "Checking file: matchers\\new_plugin_with_types\\crates\\plugins\\src\\lib.rs.py\n",
      "Checking file: matchers\\new_plugin_with_types\\crates\\{{crate_name}}\\Cargo.toml.py\n",
      "Checking file: matchers\\new_plugin_with_types\\crates\\{{crate_name}}\\src\\lib.rs.py\n",
      "Checking file: matchers\\new_plugin_with_types\\crates\\{{crate_name}}\\src\\{{crate_name}}_types.rs.py\n",
      "Checking file: matchers\\new_plugin_with_types\\crates\\{{crate_name}}\\src\\{{crate_name}}_types_plugin.rs.py\n",
      "Checking file: matchers\\new_plugin_with_types\\crates\\{{crate_name}}_types\\Cargo.toml.py\n",
      "Checking file: matchers\\new_plugin_with_types\\crates\\{{crate_name}}_types\\src\\lib.rs.py\n",
      "Checking file: matchers\\new_plugin_with_types\\crates\\{{crate_name}}_types\\src\\{{crate_name}}_types_plugin.rs.py\n",
      "Checking file: matchers\\new_tool\\Cargo.toml.py\n",
      "Checking file: matchers\\new_tool\\crates\\plugins\\Cargo.toml.py\n",
      "Checking file: matchers\\new_tool\\crates\\plugins\\src\\lib.rs.py\n",
      "Checking file: matchers\\new_tool\\crates\\{{crate_name}}_tool\\Cargo.toml.py\n",
      "Checking file: matchers\\new_tool\\crates\\{{crate_name}}_tool\\src\\lib.rs.py\n",
      "Checking file: matchers\\new_tool\\crates\\{{crate_name}}_tool\\src\\{{crate_name}}_tool_plugin.rs.py\n",
      "No matching implementation found for matchers\\new_tool\\crates\\plugins\\src\\lib.rs.py\n"
     ]
    }
   ],
   "source": [
    "for todo_file in todo_files:\n",
    "    matching_file = find_matching_implementation(todo_file)\n",
    "    if matching_file:\n",
    "        # Keep the template header from the todo file\n",
    "        todo_template_content = extract_commented_template(todo_file)\n",
    "\n",
    "        # Extract the working code from the match\n",
    "        matching_implementation_content = extract_implementation_content(matching_file)\n",
    "                \n",
    "        # Combine the new template comments with the TODO file's implementation content\n",
    "        final_content = todo_template_content + \"\\n\\n\" + matching_implementation_content\n",
    "        \n",
    "        # Write the combined content back to the TODO file\n",
    "        todo_file.write_text(final_content)\n",
    "        print(f\"Updated: {todo_file} with template from {matching_file}\")\n",
    "    else:\n",
    "        print(f\"No matching implementation found for {todo_file}\")\n"
   ]
  }
 ],
 "metadata": {
  "kernelspec": {
   "display_name": "sfm",
   "language": "python",
   "name": "python3"
  },
  "language_info": {
   "codemirror_mode": {
    "name": "ipython",
    "version": 3
   },
   "file_extension": ".py",
   "mimetype": "text/x-python",
   "name": "python",
   "nbconvert_exporter": "python",
   "pygments_lexer": "ipython3",
   "version": "3.10.12"
  }
 },
 "nbformat": 4,
 "nbformat_minor": 2
}
