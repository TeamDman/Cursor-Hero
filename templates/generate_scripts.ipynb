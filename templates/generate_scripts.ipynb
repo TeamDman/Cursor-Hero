{
 "cells": [
  {
   "cell_type": "code",
   "execution_count": 5,
   "metadata": {},
   "outputs": [
    {
     "name": "stdout",
     "output_type": "stream",
     "text": [
      "Identified templates: ['new_plugin_with_types', 'new_tool']\n"
     ]
    }
   ],
   "source": [
    "from pathlib import Path\n",
    "import json\n",
    "\n",
    "# Define the directories\n",
    "templates_dir = Path(\"patterns\")\n",
    "scripts_dir = Path(\"scripts\")\n",
    "\n",
    "# Ensure the scripts directory exists\n",
    "scripts_dir.mkdir(exist_ok=True)\n",
    "\n",
    "# List all template names (directory names in templates/patterns)\n",
    "template_names = [d.name for d in templates_dir.iterdir() if d.is_dir()]\n",
    "\n",
    "print(\"Identified templates:\", template_names)\n"
   ]
  },
  {
   "cell_type": "code",
   "execution_count": 4,
   "metadata": {},
   "outputs": [],
   "source": [
    "global_variables = [\"crate_name\", \"crate_name_pascal\"]"
   ]
  },
  {
   "cell_type": "code",
   "execution_count": 6,
   "metadata": {},
   "outputs": [
    {
     "name": "stdout",
     "output_type": "stream",
     "text": [
      "Generated script: scripts\\new_plugin_with_types.ps1\n",
      "Generated script: scripts\\new_tool.ps1\n"
     ]
    }
   ],
   "source": [
    "def generate_ps_script(template_name, global_variables):\n",
    "    script_path = scripts_dir / f\"{template_name}.ps1\"\n",
    "    with open(script_path, 'w') as script_file:\n",
    "        # PowerShell script setup\n",
    "        script_file.write(\"#!/usr/bin/env pwsh\\n\")\n",
    "        script_file.write(f\"# PowerShell script for {template_name} template\\n\\n\")\n",
    "        \n",
    "        # Add parameters with tab completion for global variables\n",
    "        script_file.write(\"param(\\n\")\n",
    "        for var in global_variables:\n",
    "            script_file.write(f\"    [Parameter(Mandatory)]\\n\")\n",
    "            script_file.write(f\"    [string] ${var},\\n\")\n",
    "        script_file.write(\")\\n\\n\")\n",
    "        \n",
    "        # Example function call or script logic using these variables\n",
    "        script_file.write(f\"# Your script logic here, using variables like ${global_variables[0]}\\n\")\n",
    "        \n",
    "    print(f\"Generated script: {script_path}\")\n",
    "\n",
    "# Generate a script for each template\n",
    "for template_name in template_names:\n",
    "    generate_ps_script(template_name, global_variables)\n"
   ]
  }
 ],
 "metadata": {
  "kernelspec": {
   "display_name": "sfm",
   "language": "python",
   "name": "python3"
  },
  "language_info": {
   "codemirror_mode": {
    "name": "ipython",
    "version": 3
   },
   "file_extension": ".py",
   "mimetype": "text/x-python",
   "name": "python",
   "nbconvert_exporter": "python",
   "pygments_lexer": "ipython3",
   "version": "3.10.12"
  }
 },
 "nbformat": 4,
 "nbformat_minor": 2
}
