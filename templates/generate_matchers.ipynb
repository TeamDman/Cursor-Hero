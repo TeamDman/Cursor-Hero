{
 "cells": [
  {
   "cell_type": "markdown",
   "metadata": {},
   "source": [
    "Check out [the conversation that wrote most of this](https://chat.openai.com/share/8b91ef50-cf4a-414c-a419-cbe10d31e2a0)"
   ]
  },
  {
   "cell_type": "code",
   "execution_count": 1,
   "metadata": {},
   "outputs": [
    {
     "name": "stdout",
     "output_type": "stream",
     "text": [
      "..\n"
     ]
    }
   ],
   "source": [
    "# Adjust this path as necessary to correctly reflect your project's structure\n",
    "from pathlib import Path\n",
    "PROJECT_ROOT = Path(\"..\")\n",
    "print(PROJECT_ROOT)"
   ]
  },
  {
   "cell_type": "code",
   "execution_count": 2,
   "metadata": {},
   "outputs": [
    {
     "name": "stderr",
     "output_type": "stream",
     "text": [
      "Processing templates: 100%|██████████| 16/16 [00:00<00:00, 21802.75it/s]"
     ]
    },
    {
     "name": "stdout",
     "output_type": "stream",
     "text": [
      "Processing patterns\\new_plugin_with_types\\Cargo.toml\n",
      "Processing patterns\\new_plugin_with_types\\crates\\plugins\\Cargo.toml\n",
      "Processing patterns\\new_plugin_with_types\\crates\\plugins\\src\\lib.rs\n",
      "Processing patterns\\new_plugin_with_types\\crates\\{{crate_name}}\\Cargo.toml\n",
      "Processing patterns\\new_plugin_with_types\\crates\\{{crate_name}}\\src\\lib.rs\n",
      "Processing patterns\\new_plugin_with_types\\crates\\{{crate_name}}\\src\\{{crate_name}}_types.rs\n",
      "Processing patterns\\new_plugin_with_types\\crates\\{{crate_name}}\\src\\{{crate_name}}_types_plugin.rs\n",
      "Processing patterns\\new_plugin_with_types\\crates\\{{crate_name}}_types\\Cargo.toml\n",
      "Processing patterns\\new_plugin_with_types\\crates\\{{crate_name}}_types\\src\\lib.rs\n",
      "Processing patterns\\new_plugin_with_types\\crates\\{{crate_name}}_types\\src\\{{crate_name}}_types_plugin.rs\n",
      "Processing patterns\\new_tool\\Cargo.toml\n",
      "Processing patterns\\new_tool\\crates\\plugins\\Cargo.toml\n",
      "Processing patterns\\new_tool\\crates\\plugins\\src\\lib.rs\n",
      "Processing patterns\\new_tool\\crates\\{{crate_name}}_tool\\Cargo.toml\n",
      "Processing patterns\\new_tool\\crates\\{{crate_name}}_tool\\src\\lib.rs\n",
      "Processing patterns\\new_tool\\crates\\{{crate_name}}_tool\\src\\{{crate_name}}_tool_plugin.rs\n"
     ]
    },
    {
     "name": "stderr",
     "output_type": "stream",
     "text": [
      "\n"
     ]
    }
   ],
   "source": [
    "import re\n",
    "from tqdm import tqdm\n",
    "from typing import Tuple\n",
    "\n",
    "# Define global variables that all templates may use\n",
    "global_variables = [\"crate_name\", \"crate_name_pascal\"]\n",
    "\n",
    "# Base directories\n",
    "patterns_dir = Path(\"patterns\")\n",
    "matchers_dir = Path(\"matchers\")\n",
    "\n",
    "# Ensure the matchers directory exists\n",
    "matchers_dir.mkdir(exist_ok=True)\n",
    "\n",
    "# Function to find and process each template file\n",
    "def process_templates(directory: Path):\n",
    "    for template_file in tqdm(list(directory.glob(\"**/*.*\")), desc=\"Processing templates\"):\n",
    "        process_template_file(template_file)\n",
    "\n",
    "# Placeholder for the function to process each individual template file\n",
    "def process_template_file(template_file: Path):\n",
    "    print(f\"Processing {template_file}\")\n",
    "\n",
    "# Start processing\n",
    "process_templates(patterns_dir)"
   ]
  },
  {
   "cell_type": "code",
   "execution_count": 3,
   "metadata": {},
   "outputs": [],
   "source": [
    "def template_content_matches(matcher_file: Path, template_content: str) -> bool:\n",
    "    if not matcher_file.exists():\n",
    "        return False\n",
    "    with open(matcher_file, \"r\") as file:\n",
    "        # Extract the commented-out template content from the matcher file\n",
    "        existing_template_content = []\n",
    "        for line in file:\n",
    "            if line.startswith(\"# \"):\n",
    "                existing_template_content.append(line[2:].rstrip())\n",
    "            else:\n",
    "                # Stop reading once we reach the end of the commented-out template content\n",
    "                break\n",
    "        # Compare the joined existing template content with the input template content\n",
    "        return \"\\n\".join(existing_template_content) == template_content"
   ]
  },
  {
   "cell_type": "code",
   "execution_count": 4,
   "metadata": {},
   "outputs": [],
   "source": [
    "def append_existing_content_and_path(destination_file: Path, py_so_far: str):\n",
    "    file_content = \"\"\n",
    "    if destination_file.exists():\n",
    "        print(f\"Appending existing content from {destination_file}\")\n",
    "        # We are about to clobber the old python splitting code\n",
    "        # Give copilot context about what it used to look like\n",
    "        with open(destination_file, \"r\") as existing_file:\n",
    "            existing_content = existing_file.read()\n",
    "        existing_lines = existing_content.splitlines()\n",
    "        # trim the comments from the end of the file\n",
    "        while existing_lines[-1].strip().startswith(\"#\"):\n",
    "            existing_lines.pop()\n",
    "        # comment it out\n",
    "        comment_lines = [\"# \" + line for line in existing_lines]\n",
    "        \n",
    "        file_content += \"##### OLD CONTENT OF THIS FILE\\n\".join(comment_lines)\n",
    "        file_content += \"\\n\\n\\n\"\n",
    "    else:\n",
    "        print(f\"Creating new file {destination_file}\")\n",
    "\n",
    "    # Calculate the relative path correctly\n",
    "    relative_path = Path(*destination_file.parts[2:]).with_suffix(\"\")\n",
    "    workspace_path = PROJECT_ROOT / relative_path\n",
    "    if workspace_path.exists():\n",
    "        print(f\"Appending existing content from {workspace_path}\")\n",
    "        file_content += \"##### WORKSPACE CONTENT\\n\"\n",
    "        file_content += \"\\n\".join([\"#\"+x for x in (PROJECT_ROOT / relative_path).read_text(encoding=\"utf-8\").split(\"\\n\")])\n",
    "    else:\n",
    "        print(f\"No existing content found at {workspace_path}\")\n",
    "    \n",
    "    # Append below\n",
    "    return py_so_far + file_content"
   ]
  },
  {
   "cell_type": "code",
   "execution_count": 5,
   "metadata": {},
   "outputs": [],
   "source": [
    "def write_matcher_file(destination_file: Path, template_content: str, variables: set):\n",
    "    # Before overwriting, check if template content matches to preserve custom code\n",
    "    if template_content_matches(destination_file, template_content):\n",
    "        print(f\"Template content for {destination_file} matches the existing file. Skipping overwrite.\")\n",
    "        return\n",
    "    \n",
    "    file_content = \"\"\n",
    "    # Write the commented-out template content\n",
    "    for line in template_content.splitlines():\n",
    "        file_content += f\"# {line}\\n\"\n",
    "    file_content += \"\\nfrom typing import Tuple\\n\\n\"\n",
    "    \n",
    "    # Write the stub function definition\n",
    "    inner_type = ', '.join(['str'] * len(variables))\n",
    "    file_content += f\"def chunk(text: str) -> Tuple[{inner_type}]:\\n\"\n",
    "    for var in variables:\n",
    "        file_content += f\"    # TODO: Implement logic for {var}\\n\"\n",
    "    file_content += \"    return ()\\n\\n\"\n",
    "    \n",
    "    # Append existing content and path\n",
    "    final_content = append_existing_content_and_path(destination_file, file_content)\n",
    "    \n",
    "    with open(destination_file, \"w\") as file:\n",
    "        file.write(final_content)\n",
    "    \n",
    "    print(f\"Updated matcher file for {destination_file}\")"
   ]
  },
  {
   "cell_type": "code",
   "execution_count": 6,
   "metadata": {},
   "outputs": [],
   "source": [
    "def extract_variables_from_template(template_content: str) -> set:\n",
    "    # Regex to find all {{variable}} instances in the template\n",
    "    variables = set(re.findall(r\"\\{\\{([^}]+)\\}\\}\", template_content))\n",
    "    # Remove global variables\n",
    "    return variables - set(global_variables)\n",
    "\n",
    "def process_template_file(template_file: Path):\n",
    "    # Read the content of the template file\n",
    "    with open(template_file, \"r\") as file:\n",
    "        template_content = file.read()\n",
    "    \n",
    "    # Extract unique variables from the template content\n",
    "    variables = extract_variables_from_template(template_content)\n",
    "    \n",
    "    # Determine the destination folder and file for the matcher\n",
    "    destination_folder = matchers_dir / template_file.relative_to(patterns_dir).parent\n",
    "    destination_folder.mkdir(parents=True, exist_ok=True)\n",
    "    destination_file = destination_folder / f\"{template_file.name}.py\"\n",
    "    \n",
    "    # Placeholder for writing to the matcher Python file\n",
    "    print(f\"Writing matcher for {template_file} to {destination_file}\")\n",
    "    write_matcher_file(destination_file, template_content, variables)"
   ]
  },
  {
   "cell_type": "code",
   "execution_count": 7,
   "metadata": {},
   "outputs": [
    {
     "name": "stderr",
     "output_type": "stream",
     "text": [
      "Processing templates: 100%|██████████| 16/16 [00:00<00:00, 606.84it/s]"
     ]
    },
    {
     "name": "stdout",
     "output_type": "stream",
     "text": [
      "Writing matcher for patterns\\new_plugin_with_types\\Cargo.toml to matchers\\new_plugin_with_types\\Cargo.toml.py\n",
      "Creating new file matchers\\new_plugin_with_types\\Cargo.toml.py\n",
      "Appending existing content from ..\\Cargo.toml\n",
      "Updated matcher file for matchers\\new_plugin_with_types\\Cargo.toml.py\n",
      "Writing matcher for patterns\\new_plugin_with_types\\crates\\plugins\\Cargo.toml to matchers\\new_plugin_with_types\\crates\\plugins\\Cargo.toml.py\n",
      "Creating new file matchers\\new_plugin_with_types\\crates\\plugins\\Cargo.toml.py\n",
      "Appending existing content from ..\\crates\\plugins\\Cargo.toml\n",
      "Updated matcher file for matchers\\new_plugin_with_types\\crates\\plugins\\Cargo.toml.py\n",
      "Writing matcher for patterns\\new_plugin_with_types\\crates\\plugins\\src\\lib.rs to matchers\\new_plugin_with_types\\crates\\plugins\\src\\lib.rs.py\n",
      "Creating new file matchers\\new_plugin_with_types\\crates\\plugins\\src\\lib.rs.py\n",
      "Appending existing content from ..\\crates\\plugins\\src\\lib.rs\n",
      "Updated matcher file for matchers\\new_plugin_with_types\\crates\\plugins\\src\\lib.rs.py\n",
      "Writing matcher for patterns\\new_plugin_with_types\\crates\\{{crate_name}}\\Cargo.toml to matchers\\new_plugin_with_types\\crates\\{{crate_name}}\\Cargo.toml.py\n",
      "Creating new file matchers\\new_plugin_with_types\\crates\\{{crate_name}}\\Cargo.toml.py\n",
      "No existing content found at ..\\crates\\{{crate_name}}\\Cargo.toml\n",
      "Updated matcher file for matchers\\new_plugin_with_types\\crates\\{{crate_name}}\\Cargo.toml.py\n",
      "Writing matcher for patterns\\new_plugin_with_types\\crates\\{{crate_name}}\\src\\lib.rs to matchers\\new_plugin_with_types\\crates\\{{crate_name}}\\src\\lib.rs.py\n",
      "Creating new file matchers\\new_plugin_with_types\\crates\\{{crate_name}}\\src\\lib.rs.py\n",
      "No existing content found at ..\\crates\\{{crate_name}}\\src\\lib.rs\n",
      "Updated matcher file for matchers\\new_plugin_with_types\\crates\\{{crate_name}}\\src\\lib.rs.py\n",
      "Writing matcher for patterns\\new_plugin_with_types\\crates\\{{crate_name}}\\src\\{{crate_name}}_types.rs to matchers\\new_plugin_with_types\\crates\\{{crate_name}}\\src\\{{crate_name}}_types.rs.py\n",
      "Creating new file matchers\\new_plugin_with_types\\crates\\{{crate_name}}\\src\\{{crate_name}}_types.rs.py\n",
      "No existing content found at ..\\crates\\{{crate_name}}\\src\\{{crate_name}}_types.rs\n",
      "Updated matcher file for matchers\\new_plugin_with_types\\crates\\{{crate_name}}\\src\\{{crate_name}}_types.rs.py\n",
      "Writing matcher for patterns\\new_plugin_with_types\\crates\\{{crate_name}}\\src\\{{crate_name}}_types_plugin.rs to matchers\\new_plugin_with_types\\crates\\{{crate_name}}\\src\\{{crate_name}}_types_plugin.rs.py\n",
      "Creating new file matchers\\new_plugin_with_types\\crates\\{{crate_name}}\\src\\{{crate_name}}_types_plugin.rs.py\n",
      "No existing content found at ..\\crates\\{{crate_name}}\\src\\{{crate_name}}_types_plugin.rs\n",
      "Updated matcher file for matchers\\new_plugin_with_types\\crates\\{{crate_name}}\\src\\{{crate_name}}_types_plugin.rs.py\n",
      "Writing matcher for patterns\\new_plugin_with_types\\crates\\{{crate_name}}_types\\Cargo.toml to matchers\\new_plugin_with_types\\crates\\{{crate_name}}_types\\Cargo.toml.py\n",
      "Creating new file matchers\\new_plugin_with_types\\crates\\{{crate_name}}_types\\Cargo.toml.py\n",
      "No existing content found at ..\\crates\\{{crate_name}}_types\\Cargo.toml\n",
      "Updated matcher file for matchers\\new_plugin_with_types\\crates\\{{crate_name}}_types\\Cargo.toml.py\n",
      "Writing matcher for patterns\\new_plugin_with_types\\crates\\{{crate_name}}_types\\src\\lib.rs to matchers\\new_plugin_with_types\\crates\\{{crate_name}}_types\\src\\lib.rs.py\n",
      "Creating new file matchers\\new_plugin_with_types\\crates\\{{crate_name}}_types\\src\\lib.rs.py\n",
      "No existing content found at ..\\crates\\{{crate_name}}_types\\src\\lib.rs\n",
      "Updated matcher file for matchers\\new_plugin_with_types\\crates\\{{crate_name}}_types\\src\\lib.rs.py\n",
      "Writing matcher for patterns\\new_plugin_with_types\\crates\\{{crate_name}}_types\\src\\{{crate_name}}_types_plugin.rs to matchers\\new_plugin_with_types\\crates\\{{crate_name}}_types\\src\\{{crate_name}}_types_plugin.rs.py\n",
      "Creating new file matchers\\new_plugin_with_types\\crates\\{{crate_name}}_types\\src\\{{crate_name}}_types_plugin.rs.py\n",
      "No existing content found at ..\\crates\\{{crate_name}}_types\\src\\{{crate_name}}_types_plugin.rs\n",
      "Updated matcher file for matchers\\new_plugin_with_types\\crates\\{{crate_name}}_types\\src\\{{crate_name}}_types_plugin.rs.py\n",
      "Writing matcher for patterns\\new_tool\\Cargo.toml to matchers\\new_tool\\Cargo.toml.py\n",
      "Creating new file matchers\\new_tool\\Cargo.toml.py\n",
      "Appending existing content from ..\\Cargo.toml\n",
      "Updated matcher file for matchers\\new_tool\\Cargo.toml.py\n",
      "Writing matcher for patterns\\new_tool\\crates\\plugins\\Cargo.toml to matchers\\new_tool\\crates\\plugins\\Cargo.toml.py\n",
      "Creating new file matchers\\new_tool\\crates\\plugins\\Cargo.toml.py\n",
      "Appending existing content from ..\\crates\\plugins\\Cargo.toml\n",
      "Updated matcher file for matchers\\new_tool\\crates\\plugins\\Cargo.toml.py\n",
      "Writing matcher for patterns\\new_tool\\crates\\plugins\\src\\lib.rs to matchers\\new_tool\\crates\\plugins\\src\\lib.rs.py\n",
      "Creating new file matchers\\new_tool\\crates\\plugins\\src\\lib.rs.py\n",
      "Appending existing content from ..\\crates\\plugins\\src\\lib.rs\n",
      "Updated matcher file for matchers\\new_tool\\crates\\plugins\\src\\lib.rs.py\n",
      "Writing matcher for patterns\\new_tool\\crates\\{{crate_name}}_tool\\Cargo.toml to matchers\\new_tool\\crates\\{{crate_name}}_tool\\Cargo.toml.py\n",
      "Creating new file matchers\\new_tool\\crates\\{{crate_name}}_tool\\Cargo.toml.py\n",
      "No existing content found at ..\\crates\\{{crate_name}}_tool\\Cargo.toml\n",
      "Updated matcher file for matchers\\new_tool\\crates\\{{crate_name}}_tool\\Cargo.toml.py\n",
      "Writing matcher for patterns\\new_tool\\crates\\{{crate_name}}_tool\\src\\lib.rs to matchers\\new_tool\\crates\\{{crate_name}}_tool\\src\\lib.rs.py\n",
      "Creating new file matchers\\new_tool\\crates\\{{crate_name}}_tool\\src\\lib.rs.py\n",
      "No existing content found at ..\\crates\\{{crate_name}}_tool\\src\\lib.rs\n",
      "Updated matcher file for matchers\\new_tool\\crates\\{{crate_name}}_tool\\src\\lib.rs.py\n",
      "Writing matcher for patterns\\new_tool\\crates\\{{crate_name}}_tool\\src\\{{crate_name}}_tool_plugin.rs to matchers\\new_tool\\crates\\{{crate_name}}_tool\\src\\{{crate_name}}_tool_plugin.rs.py\n",
      "Creating new file matchers\\new_tool\\crates\\{{crate_name}}_tool\\src\\{{crate_name}}_tool_plugin.rs.py\n",
      "No existing content found at ..\\crates\\{{crate_name}}_tool\\src\\{{crate_name}}_tool_plugin.rs\n",
      "Updated matcher file for matchers\\new_tool\\crates\\{{crate_name}}_tool\\src\\{{crate_name}}_tool_plugin.rs.py\n"
     ]
    },
    {
     "name": "stderr",
     "output_type": "stream",
     "text": [
      "\n"
     ]
    }
   ],
   "source": [
    "process_templates(patterns_dir)"
   ]
  }
 ],
 "metadata": {
  "kernelspec": {
   "display_name": "sfm",
   "language": "python",
   "name": "python3"
  },
  "language_info": {
   "codemirror_mode": {
    "name": "ipython",
    "version": 3
   },
   "file_extension": ".py",
   "mimetype": "text/x-python",
   "name": "python",
   "nbconvert_exporter": "python",
   "pygments_lexer": "ipython3",
   "version": "3.10.12"
  }
 },
 "nbformat": 4,
 "nbformat_minor": 2
}
