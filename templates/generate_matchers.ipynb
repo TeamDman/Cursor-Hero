{
 "cells": [
  {
   "cell_type": "markdown",
   "metadata": {},
   "source": [
    "Check out [the conversation that wrote most of this](https://chat.openai.com/share/8b91ef50-cf4a-414c-a419-cbe10d31e2a0)"
   ]
  },
  {
   "cell_type": "code",
   "execution_count": 145,
   "metadata": {},
   "outputs": [
    {
     "name": "stdout",
     "output_type": "stream",
     "text": [
      "..\n"
     ]
    }
   ],
   "source": [
    "# Adjust this path as necessary to correctly reflect your project's structure\n",
    "from pathlib import Path\n",
    "PROJECT_ROOT = Path(\"..\")\n",
    "print(PROJECT_ROOT)"
   ]
  },
  {
   "cell_type": "code",
   "execution_count": 146,
   "metadata": {},
   "outputs": [
    {
     "name": "stderr",
     "output_type": "stream",
     "text": [
      "Processing templates: 100%|██████████| 18/18 [00:00<?, ?it/s]"
     ]
    },
    {
     "name": "stdout",
     "output_type": "stream",
     "text": [
      "Processing patterns\\new_plugin_with_types\\Cargo.toml\n",
      "Processing patterns\\new_plugin_with_types\\Cargo.toml\n",
      "Processing patterns\\new_plugin_with_types\\__pattern__.py\n",
      "Processing patterns\\new_plugin_with_types\\__pattern__.py\n",
      "Processing patterns\\new_plugin_with_types\\crates\\plugins\\Cargo.toml\n",
      "Processing patterns\\new_plugin_with_types\\crates\\plugins\\Cargo.toml\n",
      "Processing patterns\\new_plugin_with_types\\crates\\plugins\\src\\lib.rs\n",
      "Processing patterns\\new_plugin_with_types\\crates\\plugins\\src\\lib.rs\n",
      "Processing patterns\\new_plugin_with_types\\crates\\{{crate_name}}\\Cargo.toml\n",
      "Processing patterns\\new_plugin_with_types\\crates\\{{crate_name}}\\Cargo.toml\n",
      "Processing patterns\\new_plugin_with_types\\crates\\{{crate_name}}\\src\\lib.rs\n",
      "Processing patterns\\new_plugin_with_types\\crates\\{{crate_name}}\\src\\lib.rs\n",
      "Processing patterns\\new_plugin_with_types\\crates\\{{crate_name}}\\src\\{{crate_name}}_types.rs\n",
      "Processing patterns\\new_plugin_with_types\\crates\\{{crate_name}}\\src\\{{crate_name}}_types.rs\n",
      "Processing patterns\\new_plugin_with_types\\crates\\{{crate_name}}\\src\\{{crate_name}}_types_plugin.rs\n",
      "Processing patterns\\new_plugin_with_types\\crates\\{{crate_name}}\\src\\{{crate_name}}_types_plugin.rs\n",
      "Processing patterns\\new_plugin_with_types\\crates\\{{crate_name}}_types\\Cargo.toml\n",
      "Processing patterns\\new_plugin_with_types\\crates\\{{crate_name}}_types\\Cargo.toml\n",
      "Processing patterns\\new_plugin_with_types\\crates\\{{crate_name}}_types\\src\\lib.rs\n",
      "Processing patterns\\new_plugin_with_types\\crates\\{{crate_name}}_types\\src\\lib.rs\n",
      "Processing patterns\\new_plugin_with_types\\crates\\{{crate_name}}_types\\src\\{{crate_name}}_types_plugin.rs\n",
      "Processing patterns\\new_plugin_with_types\\crates\\{{crate_name}}_types\\src\\{{crate_name}}_types_plugin.rs\n",
      "Processing patterns\\new_tool\\Cargo.toml\n",
      "Processing patterns\\new_tool\\Cargo.toml\n",
      "Processing patterns\\new_tool\\crates\\plugins\\Cargo.toml\n",
      "Processing patterns\\new_tool\\crates\\plugins\\Cargo.toml\n",
      "Processing patterns\\new_tool\\crates\\plugins\\src\\lib.rs\n",
      "Processing patterns\\new_tool\\crates\\plugins\\src\\lib.rs\n",
      "Processing patterns\\new_tool\\crates\\{{crate_name}}_tool\\Cargo.toml\n",
      "Processing patterns\\new_tool\\crates\\{{crate_name}}_tool\\Cargo.toml\n",
      "Processing patterns\\new_tool\\crates\\{{crate_name}}_tool\\src\\lib.rs\n",
      "Processing patterns\\new_tool\\crates\\{{crate_name}}_tool\\src\\lib.rs\n",
      "Processing patterns\\new_tool\\crates\\{{crate_name}}_tool\\src\\{{crate_name}}_tool_plugin.rs\n",
      "Processing patterns\\new_tool\\crates\\{{crate_name}}_tool\\src\\{{crate_name}}_tool_plugin.rs\n"
     ]
    },
    {
     "name": "stderr",
     "output_type": "stream",
     "text": [
      "\n"
     ]
    }
   ],
   "source": [
    "import re\n",
    "from tqdm import tqdm\n",
    "from typing import Tuple\n",
    "\n",
    "# Define global variables that all templates may use\n",
    "global_variables = [\"crate_name\", \"crate_name_pascal\"]\n",
    "\n",
    "# Base directories\n",
    "patterns_dir = Path(\"patterns\")\n",
    "matchers_dir = Path(\"matchers\")\n",
    "\n",
    "# Ensure the matchers directory exists\n",
    "matchers_dir.mkdir(exist_ok=True)\n",
    "\n",
    "# Function to find and process each template file\n",
    "def process_templates(directory: Path):\n",
    "    for template_file in tqdm(list(directory.glob(\"**/*.*\")), desc=\"Processing templates\"):\n",
    "        # skip __pycache__ nonsense\n",
    "        if any(part == \"__pycache__\" for part in template_file.parts):\n",
    "            continue\n",
    "\n",
    "        print(f\"Processing {template_file}\")\n",
    "        process_template_file(template_file)\n",
    "\n",
    "# Placeholder for the function to process each individual template file\n",
    "def process_template_file(template_file: Path):\n",
    "    print(f\"Processing {template_file}\")\n",
    "\n",
    "# Start processing\n",
    "process_templates(patterns_dir)"
   ]
  },
  {
   "cell_type": "code",
   "execution_count": 147,
   "metadata": {},
   "outputs": [],
   "source": [
    "def extract_commented_template(file_path):\n",
    "    content = file_path.read_text()\n",
    "    template_content = \"\"\n",
    "    for line in content.splitlines():\n",
    "        if line.startswith(\"#\"):\n",
    "            # template_content += line[1:] + \"\\n\"  # Remove the \"#\" and add the line\n",
    "            template_content += line + \"\\n\"  # Remove the \"#\" and add the line\n",
    "        else:\n",
    "            break  # Stop reading once non-commented content is reached\n",
    "    return template_content.strip()\n",
    "def extract_variables(template_content):\n",
    "    # Regular expression to find all instances of {{variable_name}}\n",
    "    pattern = re.compile(r'\\{\\{(\\w+)\\}\\}')\n",
    "    # Find all matches and return them as a set to ensure uniqueness\n",
    "    return set(pattern.findall(template_content))"
   ]
  },
  {
   "cell_type": "code",
   "execution_count": 148,
   "metadata": {},
   "outputs": [],
   "source": [
    "def template_content_matches(existing_file: Path, template_content: str) -> bool:\n",
    "    if not existing_file.exists():\n",
    "        return False\n",
    "    \n",
    "    existing_template = extract_commented_template(existing_file)\n",
    "    existing_variables = extract_variables(existing_template)\n",
    "    file_variables = extract_variables(template_content)\n",
    "    return existing_variables == file_variables"
   ]
  },
  {
   "cell_type": "code",
   "execution_count": 149,
   "metadata": {},
   "outputs": [],
   "source": [
    "def append_existing_content_and_path(destination_file: Path, py_so_far: str):\n",
    "    file_content = \"\"\n",
    "    if destination_file.exists():\n",
    "        print(f\"Appending existing content from {destination_file}\")\n",
    "        # We are about to clobber the old python splitting code\n",
    "        # Give copilot context about what it used to look like\n",
    "        with open(destination_file, \"r\") as existing_file:\n",
    "            existing_content = existing_file.read()\n",
    "        existing_lines = existing_content.splitlines()\n",
    "        if len(existing_lines) > 0:\n",
    "            # trim the comments from the end of the file\n",
    "            while existing_lines[-1].strip().startswith(\"#\"):\n",
    "                existing_lines.pop()\n",
    "            # comment it out\n",
    "            comment_lines = [\"# \" + line for line in existing_lines]\n",
    "            \n",
    "            file_content += \"##### OLD CONTENT OF THIS FILE\\n\\n\"\n",
    "            file_content += \"\\n\".join(comment_lines)\n",
    "            file_content += \"\\n\\n\\n\"\n",
    "    else:\n",
    "        print(f\"Creating new file {destination_file}\")\n",
    "\n",
    "    # Calculate the relative path correctly\n",
    "    relative_path = Path(*destination_file.parts[2:]).with_suffix(\"\")\n",
    "    workspace_path = PROJECT_ROOT / relative_path\n",
    "    if workspace_path.exists():\n",
    "        print(f\"Appending existing content from {workspace_path}\")\n",
    "        file_content += \"##### WORKSPACE CONTENT\\n\"\n",
    "        file_content += \"\\n\".join([\"#\"+x for x in (PROJECT_ROOT / relative_path).read_text(encoding=\"utf-8\").split(\"\\n\")])\n",
    "    else:\n",
    "        print(f\"No existing content found at {workspace_path}\")\n",
    "    \n",
    "    # Append below\n",
    "    return py_so_far + file_content"
   ]
  },
  {
   "cell_type": "code",
   "execution_count": 150,
   "metadata": {},
   "outputs": [],
   "source": [
    "def write_matcher_file(destination_file: Path, template_content: str, variables: set):\n",
    "    # Before overwriting, check if template content matches to preserve custom code\n",
    "    if template_content_matches(destination_file, template_content):\n",
    "        print(f\"Template content for {destination_file} matches the existing file. Skipping overwrite.\")\n",
    "        return\n",
    "    \n",
    "    file_content = \"\"\n",
    "    # Write the commented-out template content\n",
    "    for line in template_content.splitlines():\n",
    "        file_content += f\"# {line}\\n\"\n",
    "    file_content += \"\\n\"\n",
    "    if len(variables) == 0:\n",
    "        print(f\"Skipping {destination_file} as it has no variables\")\n",
    "        if destination_file.exists():\n",
    "            destination_file.unlink()\n",
    "        return\n",
    "    \n",
    "    file_content += \"\\n\\n\"\n",
    "    \n",
    "    # Write the stub function definition\n",
    "    inner_type = ', '.join(['str'] * len(variables))\n",
    "    file_content += \"def gather_variables(text: str) -> dict[str,str]:\\n\"\n",
    "    for i,var in enumerate(variables):\n",
    "        file_content += f\"    # {var}\\n\"\n",
    "        if i == len(variables) - 1 and i != 0:\n",
    "            file_content += f\"    {var} = remaining\\n\\n\"\n",
    "            continue\n",
    "        file_content += f\"    find = \\\"REPLACE ME OR THIS FILE MAY BE CLOBBERED\\\"\\n\"\n",
    "        file_content += f\"    include = True\\n\"\n",
    "        if i == 0:\n",
    "            file_content += f\"    index = text.find(find)\\n\"\n",
    "        else:\n",
    "            file_content += f\"    index = remaining.find(find)\\n\"\n",
    "        file_content += f\"    assert index != -1, f\\\"Coult not find `{{find}}`\\\"\\n\"\n",
    "        file_content += f\"    index = index + len(find) if include else index\\n\"\n",
    "\n",
    "        if i == 0:\n",
    "            file_content += f\"    {var}, remaining = text[:index],text[index:]\\n\"\n",
    "        else:\n",
    "            file_content += f\"    {var}, remaining = remaining[:index],remaining[index:]\\n\"\n",
    "        file_content += \"\\n\"\n",
    "    file_content += \"    return {\\n\"\n",
    "    for var in variables:\n",
    "        file_content += f\"        \\\"{var}\\\": {var},\\n\"\n",
    "    file_content += \"    }\\n\\n\"\n",
    "    \n",
    "    # Append existing content and path\n",
    "    final_content = append_existing_content_and_path(destination_file, file_content)\n",
    "    \n",
    "    with open(destination_file, \"w\") as file:\n",
    "        file.write(final_content)\n",
    "    \n",
    "    print(f\"Updated matcher file for {destination_file}\")"
   ]
  },
  {
   "cell_type": "code",
   "execution_count": 151,
   "metadata": {},
   "outputs": [],
   "source": [
    "def extract_variables_from_template(template_content: str) -> set:\n",
    "    # Regex to find all {{variable}} instances in the template\n",
    "    variables = set(re.findall(r\"\\{\\{([^}]+)\\}\\}\", template_content))\n",
    "    # Remove global variables\n",
    "    return variables - set(global_variables)\n",
    "\n",
    "def process_template_file(template_file: Path):\n",
    "    # Read the content of the template file\n",
    "    with open(template_file, \"r\") as file:\n",
    "        template_content = file.read()\n",
    "    \n",
    "    # Extract unique variables from the template content\n",
    "    variables = extract_variables_from_template(template_content)\n",
    "    \n",
    "    # Determine the destination folder and file for the matcher\n",
    "    destination_folder = matchers_dir / template_file.relative_to(patterns_dir).parent\n",
    "    destination_folder.mkdir(parents=True, exist_ok=True)\n",
    "    destination_file = destination_folder / f\"{template_file.name}.py\"\n",
    "    \n",
    "    # Placeholder for writing to the matcher Python file\n",
    "    print(f\"Writing matcher for {template_file} to {destination_file}\")\n",
    "    write_matcher_file(destination_file, template_content, variables)"
   ]
  },
  {
   "cell_type": "code",
   "execution_count": 152,
   "metadata": {},
   "outputs": [
    {
     "name": "stderr",
     "output_type": "stream",
     "text": [
      "Processing templates: 100%|██████████| 18/18 [00:00<00:00, 837.86it/s]"
     ]
    },
    {
     "name": "stdout",
     "output_type": "stream",
     "text": [
      "Processing patterns\\new_plugin_with_types\\Cargo.toml\n",
      "Writing matcher for patterns\\new_plugin_with_types\\Cargo.toml to matchers\\new_plugin_with_types\\Cargo.toml.py\n",
      "Creating new file matchers\\new_plugin_with_types\\Cargo.toml.py\n",
      "Appending existing content from ..\\Cargo.toml\n",
      "Updated matcher file for matchers\\new_plugin_with_types\\Cargo.toml.py\n",
      "Processing patterns\\new_plugin_with_types\\__pattern__.py\n",
      "Writing matcher for patterns\\new_plugin_with_types\\__pattern__.py to matchers\\new_plugin_with_types\\__pattern__.py.py\n",
      "Skipping matchers\\new_plugin_with_types\\__pattern__.py.py as it has no variables\n",
      "Processing patterns\\new_plugin_with_types\\crates\\plugins\\Cargo.toml\n",
      "Writing matcher for patterns\\new_plugin_with_types\\crates\\plugins\\Cargo.toml to matchers\\new_plugin_with_types\\crates\\plugins\\Cargo.toml.py\n",
      "Template content for matchers\\new_plugin_with_types\\crates\\plugins\\Cargo.toml.py matches the existing file. Skipping overwrite.\n",
      "Processing patterns\\new_plugin_with_types\\crates\\plugins\\src\\lib.rs\n",
      "Writing matcher for patterns\\new_plugin_with_types\\crates\\plugins\\src\\lib.rs to matchers\\new_plugin_with_types\\crates\\plugins\\src\\lib.rs.py\n",
      "Template content for matchers\\new_plugin_with_types\\crates\\plugins\\src\\lib.rs.py matches the existing file. Skipping overwrite.\n",
      "Processing patterns\\new_plugin_with_types\\crates\\{{crate_name}}\\Cargo.toml\n",
      "Writing matcher for patterns\\new_plugin_with_types\\crates\\{{crate_name}}\\Cargo.toml to matchers\\new_plugin_with_types\\crates\\{{crate_name}}\\Cargo.toml.py\n",
      "Skipping matchers\\new_plugin_with_types\\crates\\{{crate_name}}\\Cargo.toml.py as it has no variables\n",
      "Processing patterns\\new_plugin_with_types\\crates\\{{crate_name}}\\src\\lib.rs\n",
      "Writing matcher for patterns\\new_plugin_with_types\\crates\\{{crate_name}}\\src\\lib.rs to matchers\\new_plugin_with_types\\crates\\{{crate_name}}\\src\\lib.rs.py\n",
      "Skipping matchers\\new_plugin_with_types\\crates\\{{crate_name}}\\src\\lib.rs.py as it has no variables\n",
      "Processing patterns\\new_plugin_with_types\\crates\\{{crate_name}}\\src\\{{crate_name}}_types.rs\n",
      "Writing matcher for patterns\\new_plugin_with_types\\crates\\{{crate_name}}\\src\\{{crate_name}}_types.rs to matchers\\new_plugin_with_types\\crates\\{{crate_name}}\\src\\{{crate_name}}_types.rs.py\n",
      "Skipping matchers\\new_plugin_with_types\\crates\\{{crate_name}}\\src\\{{crate_name}}_types.rs.py as it has no variables\n",
      "Processing patterns\\new_plugin_with_types\\crates\\{{crate_name}}\\src\\{{crate_name}}_types_plugin.rs\n",
      "Writing matcher for patterns\\new_plugin_with_types\\crates\\{{crate_name}}\\src\\{{crate_name}}_types_plugin.rs to matchers\\new_plugin_with_types\\crates\\{{crate_name}}\\src\\{{crate_name}}_types_plugin.rs.py\n",
      "Skipping matchers\\new_plugin_with_types\\crates\\{{crate_name}}\\src\\{{crate_name}}_types_plugin.rs.py as it has no variables\n",
      "Processing patterns\\new_plugin_with_types\\crates\\{{crate_name}}_types\\Cargo.toml\n",
      "Writing matcher for patterns\\new_plugin_with_types\\crates\\{{crate_name}}_types\\Cargo.toml to matchers\\new_plugin_with_types\\crates\\{{crate_name}}_types\\Cargo.toml.py\n",
      "Skipping matchers\\new_plugin_with_types\\crates\\{{crate_name}}_types\\Cargo.toml.py as it has no variables\n",
      "Processing patterns\\new_plugin_with_types\\crates\\{{crate_name}}_types\\src\\lib.rs\n",
      "Writing matcher for patterns\\new_plugin_with_types\\crates\\{{crate_name}}_types\\src\\lib.rs to matchers\\new_plugin_with_types\\crates\\{{crate_name}}_types\\src\\lib.rs.py\n",
      "Skipping matchers\\new_plugin_with_types\\crates\\{{crate_name}}_types\\src\\lib.rs.py as it has no variables\n",
      "Processing patterns\\new_plugin_with_types\\crates\\{{crate_name}}_types\\src\\{{crate_name}}_types_plugin.rs\n",
      "Writing matcher for patterns\\new_plugin_with_types\\crates\\{{crate_name}}_types\\src\\{{crate_name}}_types_plugin.rs to matchers\\new_plugin_with_types\\crates\\{{crate_name}}_types\\src\\{{crate_name}}_types_plugin.rs.py\n",
      "Skipping matchers\\new_plugin_with_types\\crates\\{{crate_name}}_types\\src\\{{crate_name}}_types_plugin.rs.py as it has no variables\n",
      "Processing patterns\\new_tool\\Cargo.toml\n",
      "Writing matcher for patterns\\new_tool\\Cargo.toml to matchers\\new_tool\\Cargo.toml.py\n",
      "Template content for matchers\\new_tool\\Cargo.toml.py matches the existing file. Skipping overwrite.\n",
      "Processing patterns\\new_tool\\crates\\plugins\\Cargo.toml\n",
      "Writing matcher for patterns\\new_tool\\crates\\plugins\\Cargo.toml to matchers\\new_tool\\crates\\plugins\\Cargo.toml.py\n",
      "Template content for matchers\\new_tool\\crates\\plugins\\Cargo.toml.py matches the existing file. Skipping overwrite.\n",
      "Processing patterns\\new_tool\\crates\\plugins\\src\\lib.rs\n",
      "Writing matcher for patterns\\new_tool\\crates\\plugins\\src\\lib.rs to matchers\\new_tool\\crates\\plugins\\src\\lib.rs.py\n",
      "Template content for matchers\\new_tool\\crates\\plugins\\src\\lib.rs.py matches the existing file. Skipping overwrite.\n",
      "Processing patterns\\new_tool\\crates\\{{crate_name}}_tool\\Cargo.toml\n",
      "Writing matcher for patterns\\new_tool\\crates\\{{crate_name}}_tool\\Cargo.toml to matchers\\new_tool\\crates\\{{crate_name}}_tool\\Cargo.toml.py\n",
      "Skipping matchers\\new_tool\\crates\\{{crate_name}}_tool\\Cargo.toml.py as it has no variables\n",
      "Processing patterns\\new_tool\\crates\\{{crate_name}}_tool\\src\\lib.rs\n",
      "Writing matcher for patterns\\new_tool\\crates\\{{crate_name}}_tool\\src\\lib.rs to matchers\\new_tool\\crates\\{{crate_name}}_tool\\src\\lib.rs.py\n",
      "Skipping matchers\\new_tool\\crates\\{{crate_name}}_tool\\src\\lib.rs.py as it has no variables\n",
      "Processing patterns\\new_tool\\crates\\{{crate_name}}_tool\\src\\{{crate_name}}_tool_plugin.rs\n",
      "Writing matcher for patterns\\new_tool\\crates\\{{crate_name}}_tool\\src\\{{crate_name}}_tool_plugin.rs to matchers\\new_tool\\crates\\{{crate_name}}_tool\\src\\{{crate_name}}_tool_plugin.rs.py\n",
      "Skipping matchers\\new_tool\\crates\\{{crate_name}}_tool\\src\\{{crate_name}}_tool_plugin.rs.py as it has no variables\n"
     ]
    },
    {
     "name": "stderr",
     "output_type": "stream",
     "text": [
      "\n"
     ]
    }
   ],
   "source": [
    "process_templates(patterns_dir)"
   ]
  }
 ],
 "metadata": {
  "kernelspec": {
   "display_name": "sfm",
   "language": "python",
   "name": "python3"
  },
  "language_info": {
   "codemirror_mode": {
    "name": "ipython",
    "version": 3
   },
   "file_extension": ".py",
   "mimetype": "text/x-python",
   "name": "python",
   "nbconvert_exporter": "python",
   "pygments_lexer": "ipython3",
   "version": "3.10.12"
  }
 },
 "nbformat": 4,
 "nbformat_minor": 2
}
