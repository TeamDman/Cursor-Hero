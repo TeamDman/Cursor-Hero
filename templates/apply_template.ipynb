{
 "cells": [
  {
   "cell_type": "code",
   "execution_count": 1,
   "metadata": {},
   "outputs": [
    {
     "name": "stdout",
     "output_type": "stream",
     "text": [
      "Git status shows no changes, good to proceed\n"
     ]
    }
   ],
   "source": [
    "import subprocess\n",
    "\n",
    "# Run the git status command\n",
    "result = subprocess.run(['git', 'status'], capture_output=True, text=True)\n",
    "\n",
    "# Check if the output contains \"nothing to commit\"\n",
    "if \"nothing to commit\" in result.stdout:\n",
    "    print(\"Git status shows no changes, good to proceed\")\n",
    "else:\n",
    "    print(\"Git status shows changes\")\n",
    "    assert False"
   ]
  },
  {
   "cell_type": "code",
   "execution_count": 2,
   "metadata": {},
   "outputs": [
    {
     "name": "stdout",
     "output_type": "stream",
     "text": [
      "1 new_plugin_with_types\n",
      "2 new_tool\n"
     ]
    }
   ],
   "source": [
    "from pathlib import Path\n",
    "patterns = Path('./patterns')\n",
    "choices = list(patterns.glob(\"*\"))\n",
    "for i,pattern in enumerate(choices):\n",
    "    print(i+1,pattern.name)"
   ]
  },
  {
   "cell_type": "code",
   "execution_count": 3,
   "metadata": {},
   "outputs": [
    {
     "name": "stdout",
     "output_type": "stream",
     "text": [
      "You chose new_plugin_with_types\n"
     ]
    }
   ],
   "source": [
    "choice = int(input(f\"Choose a pattern ({1}-{len(choices)}): \"))\n",
    "assert 1 <= choice <= len(choices)\n",
    "pattern = choices[choice-1]\n",
    "print(\"You chose\",pattern.name)"
   ]
  },
  {
   "cell_type": "code",
   "execution_count": 4,
   "metadata": {},
   "outputs": [
    {
     "ename": "AssertionError",
     "evalue": "crate_name is required",
     "output_type": "error",
     "traceback": [
      "\u001b[1;31m---------------------------------------------------------------------------\u001b[0m",
      "\u001b[1;31mAssertionError\u001b[0m                            Traceback (most recent call last)",
      "Cell \u001b[1;32mIn[4], line 10\u001b[0m\n\u001b[0;32m      8\u001b[0m \u001b[38;5;66;03m# Check if the function exists, call it, and store the result\u001b[39;00m\n\u001b[0;32m      9\u001b[0m \u001b[38;5;28;01massert\u001b[39;00m \u001b[38;5;28mhasattr\u001b[39m(module, \u001b[38;5;124m'\u001b[39m\u001b[38;5;124mgather_global_variables\u001b[39m\u001b[38;5;124m'\u001b[39m)\n\u001b[1;32m---> 10\u001b[0m global_variables: \u001b[38;5;28mdict\u001b[39m[\u001b[38;5;28mstr\u001b[39m,\u001b[38;5;28mstr\u001b[39m] \u001b[38;5;241m=\u001b[39m \u001b[43mmodule\u001b[49m\u001b[38;5;241;43m.\u001b[39;49m\u001b[43mgather_global_variables\u001b[49m\u001b[43m(\u001b[49m\u001b[43m)\u001b[49m\n\u001b[0;32m     11\u001b[0m \u001b[38;5;28mprint\u001b[39m(global_variables)\n",
      "File \u001b[1;32md:\\Repos\\Games\\Cursor-Hero\\templates\\patterns\\new_plugin_with_types\\__pattern__.py:3\u001b[0m, in \u001b[0;36mgather_global_variables\u001b[1;34m()\u001b[0m\n\u001b[0;32m      1\u001b[0m \u001b[38;5;28;01mdef\u001b[39;00m \u001b[38;5;21mgather_global_variables\u001b[39m() \u001b[38;5;241m-\u001b[39m\u001b[38;5;241m>\u001b[39m \u001b[38;5;28mdict\u001b[39m[\u001b[38;5;28mstr\u001b[39m,\u001b[38;5;28mstr\u001b[39m]:\n\u001b[0;32m      2\u001b[0m     crate_name \u001b[38;5;241m=\u001b[39m \u001b[38;5;28minput\u001b[39m(\u001b[38;5;124m\"\u001b[39m\u001b[38;5;124mcrate_name\u001b[39m\u001b[38;5;124m\"\u001b[39m)\n\u001b[1;32m----> 3\u001b[0m     \u001b[38;5;28;01massert\u001b[39;00m crate_name, \u001b[38;5;124m\"\u001b[39m\u001b[38;5;124mcrate_name is required\u001b[39m\u001b[38;5;124m\"\u001b[39m\n\u001b[0;32m      4\u001b[0m     crate_name_pascal \u001b[38;5;241m=\u001b[39m pascal(crate_name)\n\u001b[0;32m      5\u001b[0m     \u001b[38;5;28;01mreturn\u001b[39;00m {\n\u001b[0;32m      6\u001b[0m         \u001b[38;5;124m\"\u001b[39m\u001b[38;5;124mcrate_name\u001b[39m\u001b[38;5;124m\"\u001b[39m: crate_name,\n\u001b[0;32m      7\u001b[0m         \u001b[38;5;124m\"\u001b[39m\u001b[38;5;124mcrate_name_pascal\u001b[39m\u001b[38;5;124m\"\u001b[39m: crate_name_pascal,\n\u001b[0;32m      8\u001b[0m     }\n",
      "\u001b[1;31mAssertionError\u001b[0m: crate_name is required"
     ]
    }
   ],
   "source": [
    "pyfile = pattern / \"__pattern__.py\"\n",
    "assert pyfile.exists(), f\"{pyfile} does not exist\"\n",
    "import importlib\n",
    "spec = importlib.util.spec_from_file_location(\"module.name\", pyfile)\n",
    "module = importlib.util.module_from_spec(spec)\n",
    "spec.loader.exec_module(module)\n",
    "\n",
    "# Check if the function exists, call it, and store the result\n",
    "assert hasattr(module, 'gather_global_variables')\n",
    "global_variables: dict[str,str] = module.gather_global_variables()\n",
    "print(global_variables)"
   ]
  },
  {
   "cell_type": "code",
   "execution_count": null,
   "metadata": {},
   "outputs": [],
   "source": [
    "# Clean up __pycache__ directories under patterns\n",
    "import shutil\n",
    "for pycache in patterns.glob(\"**/__pycache__\"):\n",
    "    print(f\"Removing {pycache}\")\n",
    "    shutil.rmtree(pycache)"
   ]
  },
  {
   "cell_type": "code",
   "execution_count": null,
   "metadata": {},
   "outputs": [],
   "source": [
    "def replace_globals(text: str) -> str:\n",
    "    for k,v in global_variables.items():\n",
    "        text = text.replace(\"{{\" + k + \"}}\",v.strip())\n",
    "    return text"
   ]
  },
  {
   "cell_type": "code",
   "execution_count": null,
   "metadata": {},
   "outputs": [],
   "source": [
    "PROJECT_ROOT = Path(\"..\")"
   ]
  },
  {
   "cell_type": "code",
   "execution_count": null,
   "metadata": {},
   "outputs": [],
   "source": [
    "matchers = Path(\"matchers\")"
   ]
  },
  {
   "cell_type": "code",
   "execution_count": null,
   "metadata": {},
   "outputs": [
    {
     "name": "stdout",
     "output_type": "stream",
     "text": [
      "Applying patterns\\new_plugin_with_types\\Cargo.toml to ..\\Cargo.toml with 4 variables\n",
      "Applying patterns\\new_plugin_with_types\\crates\\plugins\\Cargo.toml to ..\\crates\\plugins\\Cargo.toml with 4 variables\n",
      "Applying patterns\\new_plugin_with_types\\crates\\plugins\\src\\default_launch_mode_plugin.rs to ..\\crates\\plugins\\src\\default_launch_mode_plugin.rs with 5 variables\n",
      "Applying patterns\\new_plugin_with_types\\crates\\{{crate_name}}\\Cargo.toml to ..\\crates\\ui_inspector\\Cargo.toml with 2 variables\n",
      "Applying patterns\\new_plugin_with_types\\crates\\{{crate_name}}\\src\\lib.rs to ..\\crates\\ui_inspector\\src\\lib.rs with 2 variables\n",
      "Applying patterns\\new_plugin_with_types\\crates\\{{crate_name}}\\src\\{{crate_name}}_plugin.rs to ..\\crates\\ui_inspector\\src\\ui_inspector_plugin.rs with 2 variables\n",
      "Applying patterns\\new_plugin_with_types\\crates\\{{crate_name}}_types\\Cargo.toml to ..\\crates\\ui_inspector_types\\Cargo.toml with 2 variables\n",
      "Applying patterns\\new_plugin_with_types\\crates\\{{crate_name}}_types\\src\\lib.rs to ..\\crates\\ui_inspector_types\\src\\lib.rs with 2 variables\n",
      "Applying patterns\\new_plugin_with_types\\crates\\{{crate_name}}_types\\src\\{{crate_name}}_types.rs to ..\\crates\\ui_inspector_types\\src\\ui_inspector_types.rs with 2 variables\n",
      "Applying patterns\\new_plugin_with_types\\crates\\{{crate_name}}_types\\src\\{{crate_name}}_types_plugin.rs to ..\\crates\\ui_inspector_types\\src\\ui_inspector_types_plugin.rs with 2 variables\n"
     ]
    }
   ],
   "source": [
    "template_files = [x for x in pattern.glob(\"**/*.*\") if not any(y in str(x) for y in [\"__pycache__\", \"__pattern__.py\"])]\n",
    "for template in template_files:\n",
    "    destination = PROJECT_ROOT / Path(*[replace_globals(x) for x in template.parts[2:]])\n",
    "\n",
    "    # start with clone of global variables\n",
    "    variables = global_variables.copy()\n",
    "\n",
    "    # if the pattern includes other variables, we need to load the matcher to get them\n",
    "    matcher = matchers / template.relative_to(patterns).with_name(template.name + \".py\")\n",
    "    if matcher.exists():\n",
    "        spec = importlib.util.spec_from_file_location(\"module.name\", matcher)\n",
    "        module = importlib.util.module_from_spec(spec)\n",
    "        spec.loader.exec_module(module)\n",
    "        assert hasattr(module, 'gather_variables')\n",
    "        variables.update(module.gather_variables(destination.read_text()))\n",
    "        \n",
    "\n",
    "    print(f\"Applying {template} to {destination} with {len(variables)} variables\")\n",
    "    text = template.read_text()\n",
    "    for k,v in variables.items():\n",
    "        text = text.replace(\"{{\" + k + \"}}\",v.strip())\n",
    "    destination.parent.mkdir(parents=True, exist_ok=True)\n",
    "    destination.write_text(text)"
   ]
  },
  {
   "cell_type": "code",
   "execution_count": null,
   "metadata": {},
   "outputs": [
    {
     "name": "stdout",
     "output_type": "stream",
     "text": [
      "Removing matchers\\new_plugin_with_types\\__pycache__\n",
      "Removing matchers\\new_plugin_with_types\\crates\\plugins\\__pycache__\n",
      "Removing matchers\\new_plugin_with_types\\crates\\plugins\\src\\__pycache__\n"
     ]
    }
   ],
   "source": [
    "# Clean up __pycache__ directories under matchers\n",
    "import shutil\n",
    "for pycache in matchers.glob(\"**/__pycache__\"):\n",
    "    print(f\"Removing {pycache}\")\n",
    "    shutil.rmtree(pycache)"
   ]
  }
 ],
 "metadata": {
  "kernelspec": {
   "display_name": "sfm",
   "language": "python",
   "name": "python3"
  },
  "language_info": {
   "codemirror_mode": {
    "name": "ipython",
    "version": 3
   },
   "file_extension": ".py",
   "mimetype": "text/x-python",
   "name": "python",
   "nbconvert_exporter": "python",
   "pygments_lexer": "ipython3",
   "version": "3.10.12"
  }
 },
 "nbformat": 4,
 "nbformat_minor": 2
}
