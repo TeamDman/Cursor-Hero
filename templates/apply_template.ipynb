{
 "cells": [
  {
   "cell_type": "code",
   "execution_count": 1,
   "metadata": {},
   "outputs": [
    {
     "name": "stdout",
     "output_type": "stream",
     "text": [
      "Git status shows changes\n"
     ]
    },
    {
     "ename": "AssertionError",
     "evalue": "",
     "output_type": "error",
     "traceback": [
      "\u001b[1;31m---------------------------------------------------------------------------\u001b[0m",
      "\u001b[1;31mAssertionError\u001b[0m                            Traceback (most recent call last)",
      "Cell \u001b[1;32mIn[1], line 11\u001b[0m\n\u001b[0;32m      9\u001b[0m \u001b[38;5;28;01melse\u001b[39;00m:\n\u001b[0;32m     10\u001b[0m     \u001b[38;5;28mprint\u001b[39m(\u001b[38;5;124m\"\u001b[39m\u001b[38;5;124mGit status shows changes\u001b[39m\u001b[38;5;124m\"\u001b[39m)\n\u001b[1;32m---> 11\u001b[0m     \u001b[38;5;28;01massert\u001b[39;00m \u001b[38;5;28;01mFalse\u001b[39;00m\n",
      "\u001b[1;31mAssertionError\u001b[0m: "
     ]
    }
   ],
   "source": [
    "import subprocess\n",
    "\n",
    "# Run the git status command\n",
    "result = subprocess.run(['git', 'status'], capture_output=True, text=True)\n",
    "\n",
    "# Check if the output contains \"nothing to commit\"\n",
    "if \"nothing to commit\" in result.stdout:\n",
    "    print(\"Git status shows no changes, good to proceed\")\n",
    "else:\n",
    "    print(\"Git status shows changes\")\n",
    "    assert False"
   ]
  },
  {
   "cell_type": "code",
   "execution_count": 2,
   "metadata": {},
   "outputs": [
    {
     "name": "stdout",
     "output_type": "stream",
     "text": [
      "1 new_plugin_with_types\n",
      "2 new_tool\n"
     ]
    }
   ],
   "source": [
    "from pathlib import Path\n",
    "patterns = Path('./patterns')\n",
    "choices = list(patterns.glob(\"*\"))\n",
    "for i,pattern in enumerate(choices):\n",
    "    print(i+1,pattern.name)"
   ]
  },
  {
   "cell_type": "code",
   "execution_count": 3,
   "metadata": {},
   "outputs": [
    {
     "name": "stdout",
     "output_type": "stream",
     "text": [
      "You chose new_plugin_with_types\n"
     ]
    }
   ],
   "source": [
    "choice = int(input(f\"Choose a pattern ({1}-{len(choices)}): \"))\n",
    "assert 1 <= choice <= len(choices)\n",
    "pattern = choices[choice-1]\n",
    "print(\"You chose\",pattern.name)"
   ]
  },
  {
   "cell_type": "code",
   "execution_count": 6,
   "metadata": {},
   "outputs": [
    {
     "name": "stdout",
     "output_type": "stream",
     "text": [
      "{'crate_name': 'a', 'crate_name_pascal': 'A'}\n"
     ]
    }
   ],
   "source": [
    "pyfile = pattern / \"__pattern__.py\"\n",
    "assert pyfile.exists(), f\"{pyfile} does not exist\"\n",
    "import importlib\n",
    "spec = importlib.util.spec_from_file_location(\"module.name\", pyfile)\n",
    "module = importlib.util.module_from_spec(spec)\n",
    "spec.loader.exec_module(module)\n",
    "\n",
    "# Check if the function exists, call it, and store the result\n",
    "assert hasattr(module, 'gather_global_variables')\n",
    "global_variables: dict[str,str] = module.gather_global_variables()\n",
    "print(global_variables)"
   ]
  },
  {
   "cell_type": "code",
   "execution_count": 20,
   "metadata": {},
   "outputs": [],
   "source": [
    "global_variables[\"crate_name\"] = \"ui_inspector\"\n",
    "global_variables[\"crate_name_pascal\"] = \"UIInspector\""
   ]
  },
  {
   "cell_type": "code",
   "execution_count": 21,
   "metadata": {},
   "outputs": [],
   "source": [
    "# Clean up __pycache__ directories under patterns\n",
    "import shutil\n",
    "for pycache in patterns.glob(\"**/__pycache__\"):\n",
    "    print(f\"Removing {pycache}\")\n",
    "    shutil.rmtree(pycache)"
   ]
  },
  {
   "cell_type": "code",
   "execution_count": 22,
   "metadata": {},
   "outputs": [],
   "source": [
    "def replace_globals(text: str) -> str:\n",
    "    for k,v in global_variables.items():\n",
    "        text = text.replace(\"{{\" + k + \"}}\",v.strip())\n",
    "    return text"
   ]
  },
  {
   "cell_type": "code",
   "execution_count": 23,
   "metadata": {},
   "outputs": [],
   "source": [
    "PROJECT_ROOT = Path(\"..\")"
   ]
  },
  {
   "cell_type": "code",
   "execution_count": 24,
   "metadata": {},
   "outputs": [],
   "source": [
    "matchers = Path(\"matchers\")"
   ]
  },
  {
   "cell_type": "code",
   "execution_count": 25,
   "metadata": {},
   "outputs": [
    {
     "name": "stdout",
     "output_type": "stream",
     "text": [
      "Applying patterns\\new_plugin_with_types\\Cargo.toml to ..\\Cargo.toml with 4 variables\n",
      "Applying patterns\\new_plugin_with_types\\crates\\plugins\\Cargo.toml to ..\\crates\\plugins\\Cargo.toml with 4 variables\n"
     ]
    },
    {
     "ename": "AssertionError",
     "evalue": "Coult not find `pub struct MyPlugin;`",
     "output_type": "error",
     "traceback": [
      "\u001b[1;31m---------------------------------------------------------------------------\u001b[0m",
      "\u001b[1;31mAssertionError\u001b[0m                            Traceback (most recent call last)",
      "Cell \u001b[1;32mIn[25], line 15\u001b[0m\n\u001b[0;32m     13\u001b[0m     spec\u001b[38;5;241m.\u001b[39mloader\u001b[38;5;241m.\u001b[39mexec_module(module)\n\u001b[0;32m     14\u001b[0m     \u001b[38;5;28;01massert\u001b[39;00m \u001b[38;5;28mhasattr\u001b[39m(module, \u001b[38;5;124m'\u001b[39m\u001b[38;5;124mgather_variables\u001b[39m\u001b[38;5;124m'\u001b[39m)\n\u001b[1;32m---> 15\u001b[0m     variables\u001b[38;5;241m.\u001b[39mupdate(\u001b[43mmodule\u001b[49m\u001b[38;5;241;43m.\u001b[39;49m\u001b[43mgather_variables\u001b[49m\u001b[43m(\u001b[49m\u001b[43mdestination\u001b[49m\u001b[38;5;241;43m.\u001b[39;49m\u001b[43mread_text\u001b[49m\u001b[43m(\u001b[49m\u001b[43m)\u001b[49m\u001b[43m)\u001b[49m)\n\u001b[0;32m     18\u001b[0m \u001b[38;5;28mprint\u001b[39m(\u001b[38;5;124mf\u001b[39m\u001b[38;5;124m\"\u001b[39m\u001b[38;5;124mApplying \u001b[39m\u001b[38;5;132;01m{\u001b[39;00mtemplate\u001b[38;5;132;01m}\u001b[39;00m\u001b[38;5;124m to \u001b[39m\u001b[38;5;132;01m{\u001b[39;00mdestination\u001b[38;5;132;01m}\u001b[39;00m\u001b[38;5;124m with \u001b[39m\u001b[38;5;132;01m{\u001b[39;00m\u001b[38;5;28mlen\u001b[39m(variables)\u001b[38;5;132;01m}\u001b[39;00m\u001b[38;5;124m variables\u001b[39m\u001b[38;5;124m\"\u001b[39m)\n\u001b[0;32m     19\u001b[0m text \u001b[38;5;241m=\u001b[39m template\u001b[38;5;241m.\u001b[39mread_text()\n",
      "File \u001b[1;32md:\\Repos\\Games\\Cursor-Hero\\templates\\matchers\\new_plugin_with_types\\crates\\plugins\\src\\default_launch_mode_plugin.rs.py:14\u001b[0m, in \u001b[0;36mgather_variables\u001b[1;34m(text)\u001b[0m\n\u001b[0;32m     12\u001b[0m include \u001b[38;5;241m=\u001b[39m \u001b[38;5;28;01mFalse\u001b[39;00m\n\u001b[0;32m     13\u001b[0m index \u001b[38;5;241m=\u001b[39m text\u001b[38;5;241m.\u001b[39mfind(find)\n\u001b[1;32m---> 14\u001b[0m \u001b[38;5;28;01massert\u001b[39;00m index \u001b[38;5;241m!=\u001b[39m \u001b[38;5;241m-\u001b[39m\u001b[38;5;241m1\u001b[39m, \u001b[38;5;124mf\u001b[39m\u001b[38;5;124m\"\u001b[39m\u001b[38;5;124mCoult not find `\u001b[39m\u001b[38;5;132;01m{\u001b[39;00mfind\u001b[38;5;132;01m}\u001b[39;00m\u001b[38;5;124m`\u001b[39m\u001b[38;5;124m\"\u001b[39m\n\u001b[0;32m     15\u001b[0m index \u001b[38;5;241m=\u001b[39m index \u001b[38;5;241m+\u001b[39m \u001b[38;5;28mlen\u001b[39m(find) \u001b[38;5;28;01mif\u001b[39;00m include \u001b[38;5;28;01melse\u001b[39;00m index\n\u001b[0;32m     16\u001b[0m use_statements, remaining \u001b[38;5;241m=\u001b[39m text[:index],text[index:]\n",
      "\u001b[1;31mAssertionError\u001b[0m: Coult not find `pub struct MyPlugin;`"
     ]
    }
   ],
   "source": [
    "template_files = [x for x in pattern.glob(\"**/*.*\") if not any(y in str(x) for y in [\"__pycache__\", \"__pattern__.py\"])]\n",
    "for template in template_files:\n",
    "    destination = PROJECT_ROOT / Path(*[replace_globals(x) for x in template.parts[2:]])\n",
    "\n",
    "    # start with clone of global variables\n",
    "    variables = global_variables.copy()\n",
    "\n",
    "    # if the pattern includes other variables, we need to load the matcher to get them\n",
    "    matcher = matchers / template.relative_to(patterns).with_name(template.name + \".py\")\n",
    "    if matcher.exists():\n",
    "        spec = importlib.util.spec_from_file_location(\"module.name\", matcher)\n",
    "        module = importlib.util.module_from_spec(spec)\n",
    "        spec.loader.exec_module(module)\n",
    "        assert hasattr(module, 'gather_variables')\n",
    "        variables.update(module.gather_variables(destination.read_text()))\n",
    "        \n",
    "\n",
    "    print(f\"Applying {template} to {destination} with {len(variables)} variables\")\n",
    "    text = template.read_text()\n",
    "    for k,v in variables.items():\n",
    "        text = text.replace(\"{{\" + k + \"}}\",v.strip())\n",
    "    destination.parent.mkdir(parents=True, exist_ok=True)\n",
    "    destination.write_text(text)"
   ]
  },
  {
   "cell_type": "code",
   "execution_count": null,
   "metadata": {},
   "outputs": [
    {
     "name": "stdout",
     "output_type": "stream",
     "text": [
      "Removing matchers\\new_plugin_with_types\\__pycache__\n",
      "Removing matchers\\new_plugin_with_types\\crates\\plugins\\__pycache__\n"
     ]
    }
   ],
   "source": [
    "# Clean up __pycache__ directories under matchers\n",
    "import shutil\n",
    "for pycache in matchers.glob(\"**/__pycache__\"):\n",
    "    print(f\"Removing {pycache}\")\n",
    "    shutil.rmtree(pycache)"
   ]
  }
 ],
 "metadata": {
  "kernelspec": {
   "display_name": "sfm",
   "language": "python",
   "name": "python3"
  },
  "language_info": {
   "codemirror_mode": {
    "name": "ipython",
    "version": 3
   },
   "file_extension": ".py",
   "mimetype": "text/x-python",
   "name": "python",
   "nbconvert_exporter": "python",
   "pygments_lexer": "ipython3",
   "version": "3.10.12"
  }
 },
 "nbformat": 4,
 "nbformat_minor": 2
}
