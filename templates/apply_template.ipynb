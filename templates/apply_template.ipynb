{
 "cells": [
  {
   "cell_type": "code",
   "execution_count": 27,
   "metadata": {},
   "outputs": [
    {
     "name": "stdout",
     "output_type": "stream",
     "text": [
      "1 new_plugin_with_types\n",
      "2 new_tool\n"
     ]
    }
   ],
   "source": [
    "from pathlib import Path\n",
    "patterns = Path('./patterns')\n",
    "choices = list(patterns.glob(\"*\"))\n",
    "for i,pattern in enumerate(choices):\n",
    "    print(i+1,pattern.name)"
   ]
  },
  {
   "cell_type": "code",
   "execution_count": 28,
   "metadata": {},
   "outputs": [
    {
     "name": "stdout",
     "output_type": "stream",
     "text": [
      "You chose new_plugin_with_types\n"
     ]
    }
   ],
   "source": [
    "choice = int(input(f\"Choose a pattern ({1}-{len(choices)}): \"))\n",
    "assert 1 <= choice <= len(choices)\n",
    "pattern = choices[choice-1]\n",
    "print(\"You chose\",pattern.name)"
   ]
  },
  {
   "cell_type": "code",
   "execution_count": 30,
   "metadata": {},
   "outputs": [
    {
     "name": "stdout",
     "output_type": "stream",
     "text": [
      "{'crate_name': 'benis', 'crate_name_pascal': 'Benis'}\n"
     ]
    }
   ],
   "source": [
    "pyfile = pattern / \"__pattern__.py\"\n",
    "assert pyfile.exists(), f\"{pyfile} does not exist\"\n",
    "import importlib\n",
    "spec = importlib.util.spec_from_file_location(\"module.name\", pyfile)\n",
    "module = importlib.util.module_from_spec(spec)\n",
    "spec.loader.exec_module(module)\n",
    "\n",
    "# Check if the function exists, call it, and store the result\n",
    "assert hasattr(module, 'gather_global_variables')\n",
    "global_variables = module.gather_global_variables()\n",
    "print(global_variables)"
   ]
  },
  {
   "cell_type": "code",
   "execution_count": null,
   "metadata": {},
   "outputs": [],
   "source": []
  }
 ],
 "metadata": {
  "kernelspec": {
   "display_name": "sfm",
   "language": "python",
   "name": "python3"
  },
  "language_info": {
   "codemirror_mode": {
    "name": "ipython",
    "version": 3
   },
   "file_extension": ".py",
   "mimetype": "text/x-python",
   "name": "python",
   "nbconvert_exporter": "python",
   "pygments_lexer": "ipython3",
   "version": "3.10.12"
  }
 },
 "nbformat": 4,
 "nbformat_minor": 2
}
