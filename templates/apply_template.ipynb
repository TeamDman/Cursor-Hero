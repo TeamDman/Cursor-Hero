{
 "cells": [
  {
   "cell_type": "code",
   "execution_count": 3,
   "metadata": {},
   "outputs": [
    {
     "name": "stdout",
     "output_type": "stream",
     "text": [
      "1 new_plugin_with_types\n",
      "2 new_tool\n"
     ]
    }
   ],
   "source": [
    "from pathlib import Path\n",
    "patterns = Path('./patterns')\n",
    "choices = list(patterns.glob(\"*\"))\n",
    "for i,pattern in enumerate(choices):\n",
    "    print(i+1,pattern.name)"
   ]
  },
  {
   "cell_type": "code",
   "execution_count": 4,
   "metadata": {},
   "outputs": [
    {
     "name": "stdout",
     "output_type": "stream",
     "text": [
      "You chose new_plugin_with_types\n"
     ]
    }
   ],
   "source": [
    "choice = int(input(f\"Choose a pattern ({1}-{len(choices)}): \"))\n",
    "assert 1 <= choice <= len(choices)\n",
    "pattern = choices[choice-1]\n",
    "print(\"You chose\",pattern.name)"
   ]
  },
  {
   "cell_type": "code",
   "execution_count": 5,
   "metadata": {},
   "outputs": [
    {
     "name": "stdout",
     "output_type": "stream",
     "text": [
      "{'crate_name': 'process_monitor', 'crate_name_pascal': 'ProcessMonitor'}\n"
     ]
    }
   ],
   "source": [
    "pyfile = pattern / \"__pattern__.py\"\n",
    "assert pyfile.exists(), f\"{pyfile} does not exist\"\n",
    "import importlib\n",
    "spec = importlib.util.spec_from_file_location(\"module.name\", pyfile)\n",
    "module = importlib.util.module_from_spec(spec)\n",
    "spec.loader.exec_module(module)\n",
    "\n",
    "# Check if the function exists, call it, and store the result\n",
    "assert hasattr(module, 'gather_global_variables')\n",
    "global_variables: dict[str,str] = module.gather_global_variables()\n",
    "print(global_variables)"
   ]
  },
  {
   "cell_type": "code",
   "execution_count": 6,
   "metadata": {},
   "outputs": [
    {
     "name": "stdout",
     "output_type": "stream",
     "text": [
      "Removing patterns\\new_plugin_with_types\\__pycache__\n"
     ]
    }
   ],
   "source": [
    "# Clean up __pycache__ directories under patterns\n",
    "import shutil\n",
    "for pycache in patterns.glob(\"**/__pycache__\"):\n",
    "    print(f\"Removing {pycache}\")\n",
    "    shutil.rmtree(pycache)"
   ]
  },
  {
   "cell_type": "code",
   "execution_count": 7,
   "metadata": {},
   "outputs": [],
   "source": [
    "def replace_globals(text: str) -> str:\n",
    "    for k,v in global_variables.items():\n",
    "        text = text.replace(\"{{\" + k + \"}}\",v.strip())\n",
    "    return text"
   ]
  },
  {
   "cell_type": "code",
   "execution_count": 8,
   "metadata": {},
   "outputs": [],
   "source": [
    "PROJECT_ROOT = Path(\"..\")"
   ]
  },
  {
   "cell_type": "code",
   "execution_count": 9,
   "metadata": {},
   "outputs": [],
   "source": [
    "matchers = Path(\"matchers\")"
   ]
  },
  {
   "cell_type": "code",
   "execution_count": 10,
   "metadata": {},
   "outputs": [
    {
     "name": "stdout",
     "output_type": "stream",
     "text": [
      "Applying patterns\\new_plugin_with_types\\Cargo.toml to ..\\Cargo.toml with 4 variables\n",
      "Applying patterns\\new_plugin_with_types\\crates\\plugins\\Cargo.toml to ..\\crates\\plugins\\Cargo.toml with 4 variables\n",
      "Applying patterns\\new_plugin_with_types\\crates\\plugins\\src\\lib.rs to ..\\crates\\plugins\\src\\lib.rs with 5 variables\n",
      "Applying patterns\\new_plugin_with_types\\crates\\{{crate_name}}\\Cargo.toml to ..\\crates\\process_monitor\\Cargo.toml with 2 variables\n",
      "Applying patterns\\new_plugin_with_types\\crates\\{{crate_name}}\\src\\lib.rs to ..\\crates\\process_monitor\\src\\lib.rs with 2 variables\n",
      "Applying patterns\\new_plugin_with_types\\crates\\{{crate_name}}\\src\\{{crate_name}}_plugin.rs to ..\\crates\\process_monitor\\src\\process_monitor_plugin.rs with 2 variables\n",
      "Applying patterns\\new_plugin_with_types\\crates\\{{crate_name}}_types\\Cargo.toml to ..\\crates\\process_monitor_types\\Cargo.toml with 2 variables\n",
      "Applying patterns\\new_plugin_with_types\\crates\\{{crate_name}}_types\\src\\lib.rs to ..\\crates\\process_monitor_types\\src\\lib.rs with 2 variables\n",
      "Applying patterns\\new_plugin_with_types\\crates\\{{crate_name}}_types\\src\\{{crate_name}}_types.rs to ..\\crates\\process_monitor_types\\src\\process_monitor_types.rs with 2 variables\n",
      "Applying patterns\\new_plugin_with_types\\crates\\{{crate_name}}_types\\src\\{{crate_name}}_types_plugin.rs to ..\\crates\\process_monitor_types\\src\\process_monitor_types_plugin.rs with 2 variables\n"
     ]
    }
   ],
   "source": [
    "template_files = [x for x in pattern.glob(\"**/*.*\") if not any(y in str(x) for y in [\"__pycache__\", \"__pattern__.py\"])]\n",
    "for template in template_files:\n",
    "    destination = PROJECT_ROOT / Path(*[replace_globals(x) for x in template.parts[2:]])\n",
    "\n",
    "    # start with clone of global variables\n",
    "    variables = global_variables.copy()\n",
    "\n",
    "    # if the pattern includes other variables, we need to load the matcher to get them\n",
    "    matcher = matchers / template.relative_to(patterns).with_name(template.name + \".py\")\n",
    "    if matcher.exists():\n",
    "        spec = importlib.util.spec_from_file_location(\"module.name\", matcher)\n",
    "        module = importlib.util.module_from_spec(spec)\n",
    "        spec.loader.exec_module(module)\n",
    "        assert hasattr(module, 'gather_variables')\n",
    "        variables.update(module.gather_variables(destination.read_text()))\n",
    "        \n",
    "\n",
    "    print(f\"Applying {template} to {destination} with {len(variables)} variables\")\n",
    "    text = template.read_text()\n",
    "    for k,v in variables.items():\n",
    "        text = text.replace(\"{{\" + k + \"}}\",v.strip())\n",
    "    destination.parent.mkdir(parents=True, exist_ok=True)\n",
    "    destination.write_text(text)"
   ]
  },
  {
   "cell_type": "code",
   "execution_count": 11,
   "metadata": {},
   "outputs": [
    {
     "name": "stdout",
     "output_type": "stream",
     "text": [
      "Removing matchers\\new_plugin_with_types\\__pycache__\n",
      "Removing matchers\\new_plugin_with_types\\crates\\plugins\\__pycache__\n",
      "Removing matchers\\new_plugin_with_types\\crates\\plugins\\src\\__pycache__\n"
     ]
    }
   ],
   "source": [
    "# Clean up __pycache__ directories under matchers\n",
    "import shutil\n",
    "for pycache in matchers.glob(\"**/__pycache__\"):\n",
    "    print(f\"Removing {pycache}\")\n",
    "    shutil.rmtree(pycache)"
   ]
  }
 ],
 "metadata": {
  "kernelspec": {
   "display_name": "sfm",
   "language": "python",
   "name": "python3"
  },
  "language_info": {
   "codemirror_mode": {
    "name": "ipython",
    "version": 3
   },
   "file_extension": ".py",
   "mimetype": "text/x-python",
   "name": "python",
   "nbconvert_exporter": "python",
   "pygments_lexer": "ipython3",
   "version": "3.10.12"
  }
 },
 "nbformat": 4,
 "nbformat_minor": 2
}
